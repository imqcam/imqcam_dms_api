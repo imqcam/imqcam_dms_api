{
 "cells": [
  {
   "cell_type": "code",
   "execution_count": 1,
   "id": "b3a419de-975c-471e-9b2f-cf1a7fe0aed0",
   "metadata": {},
   "outputs": [],
   "source": [
    "from girder_client import GirderClient\n",
    "import os\n",
    "from imqcam import build_timeline"
   ]
  },
  {
   "cell_type": "code",
   "execution_count": 2,
   "id": "1e738cb1-6a4a-4477-9a14-458354f6e731",
   "metadata": {},
   "outputs": [
    {
     "data": {
      "text/plain": [
       "{'_id': '65c5387402ad536bd833de56'}"
      ]
     },
     "execution_count": 2,
     "metadata": {},
     "output_type": "execute_result"
    }
   ],
   "source": [
    "# Authenticate with GirderClient\n",
    "client = GirderClient(apiUrl=os.environ['GIRDER_API_URL'])\n",
    "client.authenticate(apiKey=os.environ[\"GIRDER_API_KEY\"])"
   ]
  },
  {
   "cell_type": "code",
   "execution_count": 7,
   "id": "5b6fb011-0c23-4f91-a707-e3e8180ef0d9",
   "metadata": {},
   "outputs": [
    {
     "name": "stdout",
     "output_type": "stream",
     "text": [
      "50\n"
     ]
    }
   ],
   "source": [
    "print(len(client.get('sample')))"
   ]
  },
  {
   "cell_type": "code",
   "execution_count": 3,
   "id": "4a5f8c27-8cc9-4c01-9907-abbc198cdc40",
   "metadata": {},
   "outputs": [
    {
     "name": "stdout",
     "output_type": "stream",
     "text": [
      "CMXMAL00010-032\n",
      "CMXMAL00010-031\n",
      "CMXMAL00010-030\n",
      "CMXMAL00010-029\n",
      "CMXMAL00010-028\n",
      "CMXMAL00010-027\n",
      "CMXMAL00010-026\n",
      "CMXMAL00010-025\n",
      "CMXMAL00010-024\n",
      "CMXMAL00010-023\n",
      "CMXMAL00010-022\n",
      "CMXMAL00010-021\n",
      "CMXMAL00010-020\n",
      "CMXMAL00010-019\n",
      "CMXMAL00010-018\n",
      "CMXMAL00010-017\n",
      "CMXMAL00010-016\n",
      "CMXMAL00010-015\n",
      "CMXMAL00010-014\n",
      "CMXMAL00010-013\n",
      "CMXMAL00010-012\n",
      "CMXMAL00010-011\n",
      "CMXMAL00010-010\n",
      "CMXMAL00010-009\n",
      "CMXMAL00010-008\n",
      "CMXMAL00010-007\n",
      "CMXMAL00010-006\n",
      "CMXMAL00010-005\n",
      "CMXMAL00010-004\n",
      "CMXMAL00010-003\n",
      "CMXMAL00010-002\n",
      "CMXMAL00010-001\n",
      "CMXMAL00010\n",
      "CMXMAL00008-032\n",
      "CMXMAL00008-031\n",
      "CMXMAL00008-030\n",
      "CMXMAL00008-029\n",
      "CMXMAL00008-028\n",
      "CMXMAL00008-027\n",
      "CMXMAL00008-026\n",
      "CMXMAL00008-025\n",
      "CMXMAL00008-024\n",
      "CMXMAL00008-023\n",
      "CMXMAL00008-022\n",
      "CMXMAL00008-021\n",
      "CMXMAL00008-020\n",
      "CMXMAL00008-019\n",
      "CMXMAL00008-018\n",
      "CMXMAL00008-017\n",
      "CMXMAL00008-016\n"
     ]
    },
    {
     "data": {
      "application/vnd.plotly.v1+json": {
       "config": {
        "plotlyServerURL": "https://plot.ly"
       },
       "data": [
        {
         "base": [
          "2025-06-20T17:05:51.457000000",
          "2025-06-20T17:07:42.321000000",
          "2025-06-20T17:07:52.065000000",
          "2025-06-20T17:08:08.342000000",
          "2025-06-20T17:08:26.882000000",
          "2025-06-20T17:08:36.536000000",
          "2025-06-20T17:08:58.076000000",
          "2025-06-20T17:09:10.365000000",
          "2025-06-20T17:09:31.766000000",
          "2025-06-20T17:09:40.850000000",
          "2025-06-20T17:09:59.124000000",
          "2025-06-20T17:10:09.651000000",
          "2025-06-20T17:10:26.599000000",
          "2025-06-20T17:10:36.912000000",
          "2025-06-20T17:10:55.191000000",
          "2025-06-20T17:11:03.777000000",
          "2025-06-20T17:11:20.249000000",
          "2025-06-20T17:11:34.836000000",
          "2025-06-20T17:13:19.785000000",
          "2025-06-20T17:13:39.135000000",
          "2025-06-20T17:14:08.509000000",
          "2025-06-20T17:14:26.597000000",
          "2025-06-20T17:14:35.422000000",
          "2025-06-20T17:14:51.872000000",
          "2025-06-20T17:15:03.172000000",
          "2025-06-20T17:15:21.896000000",
          "2025-06-20T17:15:40.865000000",
          "2025-06-20T17:15:50.070000000",
          "2025-06-20T17:16:06.785000000",
          "2025-06-20T17:16:15.648000000",
          "2025-06-16T14:01:07.442000000",
          "2025-06-20T17:17:40.174000000",
          "2025-06-20T17:17:50.867000000",
          "2025-06-20T17:18:09.338000000",
          "2025-06-20T17:18:20.305000000",
          "2025-06-20T17:18:45.171000000",
          "2025-06-20T17:18:54.078000000",
          "2025-06-20T17:19:13.877000000",
          "2025-06-20T17:19:23.804000000",
          "2025-06-20T17:19:45.057000000",
          "2025-06-20T17:19:54.900000000",
          "2025-06-20T17:20:10.964000000",
          "2025-06-20T17:20:34.240000000",
          "2025-06-20T17:20:52.863000000",
          "2025-06-20T17:21:03.992000000",
          "2025-06-20T17:21:19.345000000",
          "2025-06-20T17:21:27.649000000",
          "2025-06-20T17:22:30.334000000",
          "2025-06-20T17:22:38.312000000",
          "2025-06-20T17:22:52.166000000",
          "2025-06-20T17:23:04.444000000",
          "2025-06-20T17:23:20.365000000",
          "2025-06-20T17:23:29.924000000",
          "2025-06-20T17:23:42.859000000",
          "2025-06-20T17:23:52.002000000",
          "2025-06-20T17:24:13.275000000",
          "2025-06-20T17:24:26.113000000",
          "2025-06-20T17:24:40.267000000",
          "2025-06-20T17:24:49.293000000",
          "2025-06-20T17:25:05.398000000",
          "2025-06-20T17:25:18.198000000",
          "2025-06-20T17:25:36.651000000",
          "2025-06-20T17:25:46.002000000",
          "2025-06-20T17:26:42.589000000",
          "2025-06-20T17:26:50.492000000",
          "2025-06-20T17:27:04.463000000",
          "2025-06-20T17:27:11.965000000",
          "2025-06-20T17:27:27.158000000",
          "2025-06-20T17:27:36.115000000",
          "2025-06-20T17:27:50.609000000",
          "2025-06-20T17:28:00.267000000",
          "2025-06-20T17:28:18.560000000",
          "2025-06-20T17:28:31.391000000",
          "2025-06-20T17:28:48.347000000",
          "2025-06-20T17:28:56.148000000",
          "2025-06-20T17:29:09.594000000",
          "2025-06-20T17:29:21.793000000",
          "2025-06-20T17:29:38.356000000",
          "2025-06-20T17:29:46.404000000",
          "2025-06-20T17:30:47.185000000",
          "2025-06-20T17:30:55.189000000",
          "2025-06-20T17:31:09.135000000",
          "2025-06-20T17:31:16.985000000",
          "2025-06-20T17:31:51.464000000",
          "2025-06-20T17:32:03.509000000",
          "2025-06-20T17:32:17.160000000",
          "2025-06-20T17:32:24.496000000",
          "2025-06-20T17:32:37.841000000",
          "2025-06-20T17:32:46.176000000",
          "2025-06-20T17:32:59.743000000",
          "2025-06-20T17:33:09.587000000",
          "2025-06-20T17:33:24.891000000",
          "2025-06-20T17:33:35.422000000",
          "2025-06-20T17:33:46.869000000",
          "2025-06-20T17:33:57.886000000"
         ],
         "customdata": [
          [
           "Katie O'Donnell",
           "",
           "CMU"
          ],
          [
           "Katie O'Donnell",
           "",
           "CMU"
          ],
          [
           "Katie O'Donnell",
           "",
           "Unknown"
          ],
          [
           "Katie O'Donnell",
           "",
           "CMU"
          ],
          [
           "Katie O'Donnell",
           "",
           "CMU"
          ],
          [
           "Katie O'Donnell",
           "",
           "Unknown"
          ],
          [
           "Katie O'Donnell",
           "",
           "CMU"
          ],
          [
           "Katie O'Donnell",
           "",
           "Unknown"
          ],
          [
           "Katie O'Donnell",
           "",
           "CMU"
          ],
          [
           "Katie O'Donnell",
           "",
           "Unknown"
          ],
          [
           "Katie O'Donnell",
           "",
           "CMU"
          ],
          [
           "Katie O'Donnell",
           "",
           "Unknown"
          ],
          [
           "Katie O'Donnell",
           "",
           "CMU"
          ],
          [
           "Katie O'Donnell",
           "",
           "Unknown"
          ],
          [
           "Katie O'Donnell",
           "",
           "CMU"
          ],
          [
           "Katie O'Donnell",
           "",
           "Unknown"
          ],
          [
           "Katie O'Donnell",
           "",
           "c"
          ],
          [
           "Katie O'Donnell",
           "",
           "Unknown"
          ],
          [
           "Katie O'Donnell",
           "",
           "CMU"
          ],
          [
           "Katie O'Donnell",
           "",
           "CMU"
          ],
          [
           "Katie O'Donnell",
           "",
           "Unknown"
          ],
          [
           "Katie O'Donnell",
           "",
           "CMU"
          ],
          [
           "Katie O'Donnell",
           "",
           "Unknown"
          ],
          [
           "Katie O'Donnell",
           "",
           "CMU"
          ],
          [
           "Katie O'Donnell",
           "",
           "Unknown"
          ],
          [
           "Katie O'Donnell",
           "",
           "CMU"
          ],
          [
           "Katie O'Donnell",
           "",
           "CMU"
          ],
          [
           "Katie O'Donnell",
           "",
           "Unknown"
          ],
          [
           "Katie O'Donnell",
           "",
           "CMU"
          ],
          [
           "Katie O'Donnell",
           "",
           "Unknown"
          ],
          [
           "Katie O'Donnell",
           "All 4PB samples from build, heat treated and machined, were sent to CWRU",
           "Unknown"
          ],
          [
           "Katie O'Donnell",
           "",
           "CMU"
          ],
          [
           "Katie O'Donnell",
           "",
           "Unknown"
          ],
          [
           "Katie O'Donnell",
           "",
           "CMU"
          ],
          [
           "Katie O'Donnell",
           "",
           "Unknown"
          ],
          [
           "Katie O'Donnell",
           "",
           "CMU"
          ],
          [
           "Katie O'Donnell",
           "",
           "Unknown"
          ],
          [
           "Katie O'Donnell",
           "",
           "CMU"
          ],
          [
           "Katie O'Donnell",
           "",
           "Unknown"
          ],
          [
           "Katie O'Donnell",
           "",
           "CMU"
          ],
          [
           "Katie O'Donnell",
           "",
           "Unknown"
          ],
          [
           "Katie O'Donnell",
           "",
           "CMU"
          ],
          [
           "Katie O'Donnell",
           "",
           "Unknown"
          ],
          [
           "Katie O'Donnell",
           "",
           "CMU"
          ],
          [
           "Katie O'Donnell",
           "",
           "Unknown"
          ],
          [
           "Katie O'Donnell",
           "",
           "CMU"
          ],
          [
           "Katie O'Donnell",
           "",
           "Unknown"
          ],
          [
           "Katie O'Donnell",
           "",
           "CMU"
          ],
          [
           "Katie O'Donnell",
           "",
           "Unknown"
          ],
          [
           "Katie O'Donnell",
           "",
           "CMU"
          ],
          [
           "Katie O'Donnell",
           "",
           "Unknown"
          ],
          [
           "Katie O'Donnell",
           "",
           "CMU"
          ],
          [
           "Katie O'Donnell",
           "",
           "Unknown"
          ],
          [
           "Katie O'Donnell",
           "",
           "CMU"
          ],
          [
           "Katie O'Donnell",
           "",
           "Unknown"
          ],
          [
           "Katie O'Donnell",
           "",
           "CMU"
          ],
          [
           "Katie O'Donnell",
           "",
           "Unknown"
          ],
          [
           "Katie O'Donnell",
           "",
           "CMU"
          ],
          [
           "Katie O'Donnell",
           "",
           "Unknown"
          ],
          [
           "Katie O'Donnell",
           "",
           "CMU"
          ],
          [
           "Katie O'Donnell",
           "",
           "Unknown"
          ],
          [
           "Katie O'Donnell",
           "",
           "CMU"
          ],
          [
           "Katie O'Donnell",
           "",
           "Unknown"
          ],
          [
           "Katie O'Donnell",
           "",
           "CMU"
          ],
          [
           "Katie O'Donnell",
           "",
           "Unknown"
          ],
          [
           "Katie O'Donnell",
           "",
           "CMU"
          ],
          [
           "Katie O'Donnell",
           "",
           "Unknown"
          ],
          [
           "Katie O'Donnell",
           "",
           "CMU"
          ],
          [
           "Katie O'Donnell",
           "",
           "Unknown"
          ],
          [
           "Katie O'Donnell",
           "",
           "CMU"
          ],
          [
           "Katie O'Donnell",
           "",
           "Unknown"
          ],
          [
           "Katie O'Donnell",
           "",
           "CMU"
          ],
          [
           "Katie O'Donnell",
           "",
           "Unknown"
          ],
          [
           "Katie O'Donnell",
           "",
           "CMU"
          ],
          [
           "Katie O'Donnell",
           "",
           "Unknown"
          ],
          [
           "Katie O'Donnell",
           "",
           "CMU"
          ],
          [
           "Katie O'Donnell",
           "",
           "Unknown"
          ],
          [
           "Katie O'Donnell",
           "",
           "CMU"
          ],
          [
           "Katie O'Donnell",
           "",
           "Unknown"
          ],
          [
           "Katie O'Donnell",
           "",
           "CMU"
          ],
          [
           "Katie O'Donnell",
           "",
           "Unknown"
          ],
          [
           "Katie O'Donnell",
           "",
           "CMU"
          ],
          [
           "Katie O'Donnell",
           "",
           "Unknown"
          ],
          [
           "Katie O'Donnell",
           "",
           "CMU"
          ],
          [
           "Katie O'Donnell",
           "",
           "Unknown"
          ],
          [
           "Katie O'Donnell",
           "",
           "CMU"
          ],
          [
           "Katie O'Donnell",
           "",
           "Unknown"
          ],
          [
           "Katie O'Donnell",
           "",
           "CMU"
          ],
          [
           "Katie O'Donnell",
           "",
           "Unknown"
          ],
          [
           "Katie O'Donnell",
           "",
           "CMU"
          ],
          [
           "Katie O'Donnell",
           "",
           "Unknown"
          ],
          [
           "Katie O'Donnell",
           "",
           "CMU"
          ],
          [
           "Katie O'Donnell",
           "",
           "Unknown"
          ],
          [
           "Katie O'Donnell",
           "",
           "CMU"
          ],
          [
           "Katie O'Donnell",
           "",
           "Unknown"
          ]
         ],
         "hovertemplate": "creator=%{customdata[0]}<br>timestamp=%{base}<br>timestamp_end=%{x}<br>sample_name=%{y}<br>comment=%{customdata[1]}<br>location=%{customdata[2]}<extra></extra>",
         "legendgroup": "Katie O'Donnell",
         "marker": {
          "color": "#636efa",
          "pattern": {
           "shape": ""
          }
         },
         "name": "Katie O'Donnell",
         "orientation": "h",
         "showlegend": true,
         "textposition": "auto",
         "type": "bar",
         "x": {
          "_inputArray": {
           "0": 86400000,
           "1": 86400000,
           "10": 86400000,
           "11": 86400000,
           "12": 86400000,
           "13": 86400000,
           "14": 86400000,
           "15": 86400000,
           "16": 86400000,
           "17": 86400000,
           "18": 86400000,
           "19": 86400000,
           "2": 86400000,
           "20": 86400000,
           "21": 86400000,
           "22": 86400000,
           "23": 86400000,
           "24": 86400000,
           "25": 86400000,
           "26": 86400000,
           "27": 86400000,
           "28": 86400000,
           "29": 86400000,
           "3": 86400000,
           "30": 86400000,
           "31": 86400000,
           "32": 86400000,
           "33": 86400000,
           "34": 86400000,
           "35": 86400000,
           "36": 86400000,
           "37": 86400000,
           "38": 86400000,
           "39": 86400000,
           "4": 86400000,
           "40": 86400000,
           "41": 86400000,
           "42": 86400000,
           "43": 86400000,
           "44": 86400000,
           "45": 86400000,
           "46": 86400000,
           "47": 86400000,
           "48": 86400000,
           "49": 86400000,
           "5": 86400000,
           "50": 86400000,
           "51": 86400000,
           "52": 86400000,
           "53": 86400000,
           "54": 86400000,
           "55": 86400000,
           "56": 86400000,
           "57": 86400000,
           "58": 86400000,
           "59": 86400000,
           "6": 86400000,
           "60": 86400000,
           "61": 86400000,
           "62": 86400000,
           "63": 86400000,
           "64": 86400000,
           "65": 86400000,
           "66": 86400000,
           "67": 86400000,
           "68": 86400000,
           "69": 86400000,
           "7": 86400000,
           "70": 86400000,
           "71": 86400000,
           "72": 86400000,
           "73": 86400000,
           "74": 86400000,
           "75": 86400000,
           "76": 86400000,
           "77": 86400000,
           "78": 86400000,
           "79": 86400000,
           "8": 86400000,
           "80": 86400000,
           "81": 86400000,
           "82": 86400000,
           "83": 86400000,
           "84": 86400000,
           "85": 86400000,
           "86": 86400000,
           "87": 86400000,
           "88": 86400000,
           "89": 86400000,
           "9": 86400000,
           "90": 86400000,
           "91": 86400000,
           "92": 86400000,
           "93": 86400000,
           "94": 86400000,
           "bdata": "AFwmBQBcJgUAXCYFAFwmBQBcJgUAXCYFAFwmBQBcJgUAXCYFAFwmBQBcJgUAXCYFAFwmBQBcJgUAXCYFAFwmBQBcJgUAXCYFAFwmBQBcJgUAXCYFAFwmBQBcJgUAXCYFAFwmBQBcJgUAXCYFAFwmBQBcJgUAXCYFAFwmBQBcJgUAXCYFAFwmBQBcJgUAXCYFAFwmBQBcJgUAXCYFAFwmBQBcJgUAXCYFAFwmBQBcJgUAXCYFAFwmBQBcJgUAXCYFAFwmBQBcJgUAXCYFAFwmBQBcJgUAXCYFAFwmBQBcJgUAXCYFAFwmBQBcJgUAXCYFAFwmBQBcJgUAXCYFAFwmBQBcJgUAXCYFAFwmBQBcJgUAXCYFAFwmBQBcJgUAXCYFAFwmBQBcJgUAXCYFAFwmBQBcJgUAXCYFAFwmBQBcJgUAXCYFAFwmBQBcJgUAXCYFAFwmBQBcJgUAXCYFAFwmBQBcJgUAXCYFAFwmBQBcJgUAXCYFAFwmBQBcJgU=",
           "dtype": "i4",
           "shape": "95"
          },
          "bdata": "AFwmBQBcJgUAXCYFAFwmBQBcJgUAXCYFAFwmBQBcJgUAXCYFAFwmBQBcJgUAXCYFAFwmBQBcJgUAXCYFAFwmBQBcJgUAXCYFAFwmBQBcJgUAXCYFAFwmBQBcJgUAXCYFAFwmBQBcJgUAXCYFAFwmBQBcJgUAXCYFAFwmBQBcJgUAXCYFAFwmBQBcJgUAXCYFAFwmBQBcJgUAXCYFAFwmBQBcJgUAXCYFAFwmBQBcJgUAXCYFAFwmBQBcJgUAXCYFAFwmBQBcJgUAXCYFAFwmBQBcJgUAXCYFAFwmBQBcJgUAXCYFAFwmBQBcJgUAXCYFAFwmBQBcJgUAXCYFAFwmBQBcJgUAXCYFAFwmBQBcJgUAXCYFAFwmBQBcJgUAXCYFAFwmBQBcJgUAXCYFAFwmBQBcJgUAXCYFAFwmBQBcJgUAXCYFAFwmBQBcJgUAXCYFAFwmBQBcJgUAXCYFAFwmBQBcJgUAXCYFAFwmBQBcJgUAXCYFAFwmBQBcJgU=",
          "dtype": "i4"
         },
         "xaxis": "x",
         "y": [
          "CMXMAL00008-016",
          "CMXMAL00008-017",
          "CMXMAL00008-017",
          "CMXMAL00008-018",
          "CMXMAL00008-019",
          "CMXMAL00008-019",
          "CMXMAL00008-020",
          "CMXMAL00008-020",
          "CMXMAL00008-021",
          "CMXMAL00008-021",
          "CMXMAL00008-022",
          "CMXMAL00008-022",
          "CMXMAL00008-023",
          "CMXMAL00008-023",
          "CMXMAL00008-024",
          "CMXMAL00008-024",
          "CMXMAL00008-025",
          "CMXMAL00008-025",
          "CMXMAL00008-026",
          "CMXMAL00008-027",
          "CMXMAL00008-027",
          "CMXMAL00008-028",
          "CMXMAL00008-028",
          "CMXMAL00008-029",
          "CMXMAL00008-029",
          "CMXMAL00008-030",
          "CMXMAL00008-031",
          "CMXMAL00008-031",
          "CMXMAL00008-032",
          "CMXMAL00008-032",
          "CMXMAL00010",
          "CMXMAL00010-001",
          "CMXMAL00010-001",
          "CMXMAL00010-002",
          "CMXMAL00010-002",
          "CMXMAL00010-003",
          "CMXMAL00010-003",
          "CMXMAL00010-004",
          "CMXMAL00010-004",
          "CMXMAL00010-005",
          "CMXMAL00010-005",
          "CMXMAL00010-006",
          "CMXMAL00010-006",
          "CMXMAL00010-007",
          "CMXMAL00010-007",
          "CMXMAL00010-008",
          "CMXMAL00010-008",
          "CMXMAL00010-009",
          "CMXMAL00010-009",
          "CMXMAL00010-010",
          "CMXMAL00010-010",
          "CMXMAL00010-011",
          "CMXMAL00010-011",
          "CMXMAL00010-012",
          "CMXMAL00010-012",
          "CMXMAL00010-013",
          "CMXMAL00010-013",
          "CMXMAL00010-014",
          "CMXMAL00010-014",
          "CMXMAL00010-015",
          "CMXMAL00010-015",
          "CMXMAL00010-016",
          "CMXMAL00010-016",
          "CMXMAL00010-017",
          "CMXMAL00010-017",
          "CMXMAL00010-018",
          "CMXMAL00010-018",
          "CMXMAL00010-019",
          "CMXMAL00010-019",
          "CMXMAL00010-020",
          "CMXMAL00010-020",
          "CMXMAL00010-021",
          "CMXMAL00010-021",
          "CMXMAL00010-022",
          "CMXMAL00010-022",
          "CMXMAL00010-023",
          "CMXMAL00010-023",
          "CMXMAL00010-024",
          "CMXMAL00010-024",
          "CMXMAL00010-025",
          "CMXMAL00010-025",
          "CMXMAL00010-026",
          "CMXMAL00010-026",
          "CMXMAL00010-027",
          "CMXMAL00010-027",
          "CMXMAL00010-028",
          "CMXMAL00010-028",
          "CMXMAL00010-029",
          "CMXMAL00010-029",
          "CMXMAL00010-030",
          "CMXMAL00010-030",
          "CMXMAL00010-031",
          "CMXMAL00010-031",
          "CMXMAL00010-032",
          "CMXMAL00010-032"
         ],
         "yaxis": "y"
        },
        {
         "base": [
          "2025-06-23T18:41:57.674000000",
          "2025-06-23T18:41:59.577000000",
          "2025-06-23T18:42:01.689000000",
          "2025-06-23T18:42:03.727000000",
          "2025-06-23T18:42:07.218000000",
          "2025-06-23T18:42:09.115000000",
          "2025-06-23T18:42:11.352000000",
          "2025-06-23T18:42:13.293000000",
          "2025-06-23T18:42:15.381000000",
          "2025-06-23T18:42:17.212000000",
          "2025-06-23T18:42:19.277000000",
          "2025-06-23T18:42:21.930000000",
          "2025-06-23T18:42:23.696000000",
          "2025-06-23T18:42:25.936000000",
          "2025-06-23T18:42:27.754000000",
          "2025-06-23T18:42:30.266000000",
          "2025-06-23T18:42:32.466000000",
          "2025-06-23T18:38:48.545000000",
          "2025-06-23T18:38:51.765000000",
          "2025-06-23T18:38:54.515000000",
          "2025-06-23T18:38:56.732000000",
          "2025-06-23T18:38:59.079000000",
          "2025-06-23T18:39:01.527000000",
          "2025-06-23T18:39:04.602000000",
          "2025-06-23T18:39:07.974000000",
          "2025-06-23T18:39:10.676000000",
          "2025-06-23T18:39:12.973000000",
          "2025-06-23T18:39:14.871000000",
          "2025-06-23T18:39:17.164000000",
          "2025-06-23T18:39:19.186000000",
          "2025-06-23T18:39:24.679000000",
          "2025-06-23T18:39:28.551000000",
          "2025-06-23T18:39:31.324000000",
          "2025-06-23T18:39:32.755000000",
          "2025-06-23T18:39:33.985000000",
          "2025-06-23T18:39:36.086000000",
          "2025-06-23T18:39:39.516000000",
          "2025-06-23T18:39:41.749000000",
          "2025-06-23T18:39:43.691000000",
          "2025-06-23T18:39:45.960000000"
         ],
         "customdata": [
          [
           "Brett Ley",
           "Sample received at CWRU for 4PB testing.",
           "CWRU"
          ],
          [
           "Brett Ley",
           "Sample received at CWRU for 4PB testing.",
           "CWRU"
          ],
          [
           "Brett Ley",
           "Sample received at CWRU for 4PB testing.",
           "CWRU"
          ],
          [
           "Brett Ley",
           "Sample received at CWRU for 4PB testing.",
           "CWRU"
          ],
          [
           "Brett Ley",
           "Sample received at CWRU for 4PB testing.",
           "CWRU"
          ],
          [
           "Brett Ley",
           "Sample received at CWRU for 4PB testing.",
           "CWRU"
          ],
          [
           "Brett Ley",
           "Sample received at CWRU for 4PB testing.",
           "CWRU"
          ],
          [
           "Brett Ley",
           "Sample received at CWRU for 4PB testing.",
           "CWRU"
          ],
          [
           "Brett Ley",
           "Sample received at CWRU for 4PB testing.",
           "CWRU"
          ],
          [
           "Brett Ley",
           "Sample received at CWRU for 4PB testing.",
           "CWRU"
          ],
          [
           "Brett Ley",
           "Sample received at CWRU for 4PB testing.",
           "CWRU"
          ],
          [
           "Brett Ley",
           "Sample received at CWRU for 4PB testing.",
           "CWRU"
          ],
          [
           "Brett Ley",
           "Sample received at CWRU for 4PB testing.",
           "CWRU"
          ],
          [
           "Brett Ley",
           "Sample received at CWRU for 4PB testing.",
           "CWRU"
          ],
          [
           "Brett Ley",
           "Sample received at CWRU for 4PB testing.",
           "CWRU"
          ],
          [
           "Brett Ley",
           "Sample received at CWRU for 4PB testing.",
           "CWRU"
          ],
          [
           "Brett Ley",
           "Sample received at CWRU for 4PB testing.",
           "CWRU"
          ],
          [
           "Brett Ley",
           "Sample received at CWRU for 4PB testing.",
           "CWRU"
          ],
          [
           "Brett Ley",
           "Sample received at CWRU for 4PB testing.",
           "CWRU"
          ],
          [
           "Brett Ley",
           "Sample received at CWRU for 4PB testing.",
           "CWRU"
          ],
          [
           "Brett Ley",
           "Sample received at CWRU for 4PB testing.",
           "CWRU"
          ],
          [
           "Brett Ley",
           "Sample received at CWRU for 4PB testing.",
           "CWRU"
          ],
          [
           "Brett Ley",
           "Sample received at CWRU for 4PB testing.",
           "CWRU"
          ],
          [
           "Brett Ley",
           "Sample received at CWRU for 4PB testing.",
           "CWRU"
          ],
          [
           "Brett Ley",
           "Sample received at CWRU for 4PB testing.",
           "CWRU"
          ],
          [
           "Brett Ley",
           "Sample received at CWRU for 4PB testing.",
           "CWRU"
          ],
          [
           "Brett Ley",
           "Sample received at CWRU for 4PB testing.",
           "CWRU"
          ],
          [
           "Brett Ley",
           "Sample received at CWRU for 4PB testing.",
           "CWRU"
          ],
          [
           "Brett Ley",
           "Sample received at CWRU for 4PB testing.",
           "CWRU"
          ],
          [
           "Brett Ley",
           "Sample received at CWRU for 4PB testing.",
           "CWRU"
          ],
          [
           "Brett Ley",
           "Sample received at CWRU for 4PB testing.",
           "CWRU"
          ],
          [
           "Brett Ley",
           "Sample received at CWRU for 4PB testing.",
           "CWRU"
          ],
          [
           "Brett Ley",
           "Sample received at CWRU for 4PB testing.",
           "CWRU"
          ],
          [
           "Brett Ley",
           "Sample received at CWRU for 4PB testing.",
           "CWRU"
          ],
          [
           "Brett Ley",
           "Sample received at CWRU for 4PB testing.",
           "CWRU"
          ],
          [
           "Brett Ley",
           "Sample received at CWRU for 4PB testing.",
           "CWRU"
          ],
          [
           "Brett Ley",
           "Sample received at CWRU for 4PB testing.",
           "CWRU"
          ],
          [
           "Brett Ley",
           "Sample received at CWRU for 4PB testing.",
           "CWRU"
          ],
          [
           "Brett Ley",
           "Sample received at CWRU for 4PB testing.",
           "CWRU"
          ],
          [
           "Brett Ley",
           "Sample received at CWRU for 4PB testing.",
           "CWRU"
          ]
         ],
         "hovertemplate": "creator=%{customdata[0]}<br>timestamp=%{base}<br>timestamp_end=%{x}<br>sample_name=%{y}<br>comment=%{customdata[1]}<br>location=%{customdata[2]}<extra></extra>",
         "legendgroup": "Brett Ley",
         "marker": {
          "color": "#EF553B",
          "pattern": {
           "shape": ""
          }
         },
         "name": "Brett Ley",
         "orientation": "h",
         "showlegend": true,
         "textposition": "auto",
         "type": "bar",
         "x": {
          "_inputArray": {
           "0": 86400000,
           "1": 86400000,
           "10": 86400000,
           "11": 86400000,
           "12": 86400000,
           "13": 86400000,
           "14": 86400000,
           "15": 86400000,
           "16": 86400000,
           "17": 86400000,
           "18": 86400000,
           "19": 86400000,
           "2": 86400000,
           "20": 86400000,
           "21": 86400000,
           "22": 86400000,
           "23": 86400000,
           "24": 86400000,
           "25": 86400000,
           "26": 86400000,
           "27": 86400000,
           "28": 86400000,
           "29": 86400000,
           "3": 86400000,
           "30": 86400000,
           "31": 86400000,
           "32": 86400000,
           "33": 86400000,
           "34": 86400000,
           "35": 86400000,
           "36": 86400000,
           "37": 86400000,
           "38": 86400000,
           "39": 86400000,
           "4": 86400000,
           "5": 86400000,
           "6": 86400000,
           "7": 86400000,
           "8": 86400000,
           "9": 86400000,
           "bdata": "AFwmBQBcJgUAXCYFAFwmBQBcJgUAXCYFAFwmBQBcJgUAXCYFAFwmBQBcJgUAXCYFAFwmBQBcJgUAXCYFAFwmBQBcJgUAXCYFAFwmBQBcJgUAXCYFAFwmBQBcJgUAXCYFAFwmBQBcJgUAXCYFAFwmBQBcJgUAXCYFAFwmBQBcJgUAXCYFAFwmBQBcJgUAXCYFAFwmBQBcJgUAXCYFAFwmBQ==",
           "dtype": "i4",
           "shape": "40"
          },
          "bdata": "AFwmBQBcJgUAXCYFAFwmBQBcJgUAXCYFAFwmBQBcJgUAXCYFAFwmBQBcJgUAXCYFAFwmBQBcJgUAXCYFAFwmBQBcJgUAXCYFAFwmBQBcJgUAXCYFAFwmBQBcJgUAXCYFAFwmBQBcJgUAXCYFAFwmBQBcJgUAXCYFAFwmBQBcJgUAXCYFAFwmBQBcJgUAXCYFAFwmBQBcJgUAXCYFAFwmBQ==",
          "dtype": "i4"
         },
         "xaxis": "x",
         "y": [
          "CMXMAL00008-016",
          "CMXMAL00008-017",
          "CMXMAL00008-018",
          "CMXMAL00008-019",
          "CMXMAL00008-020",
          "CMXMAL00008-021",
          "CMXMAL00008-022",
          "CMXMAL00008-023",
          "CMXMAL00008-024",
          "CMXMAL00008-025",
          "CMXMAL00008-026",
          "CMXMAL00008-027",
          "CMXMAL00008-028",
          "CMXMAL00008-029",
          "CMXMAL00008-030",
          "CMXMAL00008-031",
          "CMXMAL00008-032",
          "CMXMAL00010-002",
          "CMXMAL00010-003",
          "CMXMAL00010-005",
          "CMXMAL00010-007",
          "CMXMAL00010-008",
          "CMXMAL00010-009",
          "CMXMAL00010-010",
          "CMXMAL00010-011",
          "CMXMAL00010-012",
          "CMXMAL00010-013",
          "CMXMAL00010-014",
          "CMXMAL00010-017",
          "CMXMAL00010-019",
          "CMXMAL00010-020",
          "CMXMAL00010-021",
          "CMXMAL00010-022",
          "CMXMAL00010-023",
          "CMXMAL00010-024",
          "CMXMAL00010-025",
          "CMXMAL00010-027",
          "CMXMAL00010-028",
          "CMXMAL00010-029",
          "CMXMAL00010-032"
         ],
         "yaxis": "y"
        }
       ],
       "layout": {
        "autosize": true,
        "barmode": "overlay",
        "legend": {
         "title": {
          "text": "creator"
         },
         "tracegroupgap": 0
        },
        "margin": {
         "t": 60
        },
        "template": {
         "data": {
          "bar": [
           {
            "error_x": {
             "color": "#2a3f5f"
            },
            "error_y": {
             "color": "#2a3f5f"
            },
            "marker": {
             "line": {
              "color": "#E5ECF6",
              "width": 0.5
             },
             "pattern": {
              "fillmode": "overlay",
              "size": 10,
              "solidity": 0.2
             }
            },
            "type": "bar"
           }
          ],
          "barpolar": [
           {
            "marker": {
             "line": {
              "color": "#E5ECF6",
              "width": 0.5
             },
             "pattern": {
              "fillmode": "overlay",
              "size": 10,
              "solidity": 0.2
             }
            },
            "type": "barpolar"
           }
          ],
          "carpet": [
           {
            "aaxis": {
             "endlinecolor": "#2a3f5f",
             "gridcolor": "white",
             "linecolor": "white",
             "minorgridcolor": "white",
             "startlinecolor": "#2a3f5f"
            },
            "baxis": {
             "endlinecolor": "#2a3f5f",
             "gridcolor": "white",
             "linecolor": "white",
             "minorgridcolor": "white",
             "startlinecolor": "#2a3f5f"
            },
            "type": "carpet"
           }
          ],
          "choropleth": [
           {
            "colorbar": {
             "outlinewidth": 0,
             "ticks": ""
            },
            "type": "choropleth"
           }
          ],
          "contour": [
           {
            "colorbar": {
             "outlinewidth": 0,
             "ticks": ""
            },
            "colorscale": [
             [
              0,
              "#0d0887"
             ],
             [
              0.1111111111111111,
              "#46039f"
             ],
             [
              0.2222222222222222,
              "#7201a8"
             ],
             [
              0.3333333333333333,
              "#9c179e"
             ],
             [
              0.4444444444444444,
              "#bd3786"
             ],
             [
              0.5555555555555556,
              "#d8576b"
             ],
             [
              0.6666666666666666,
              "#ed7953"
             ],
             [
              0.7777777777777778,
              "#fb9f3a"
             ],
             [
              0.8888888888888888,
              "#fdca26"
             ],
             [
              1,
              "#f0f921"
             ]
            ],
            "type": "contour"
           }
          ],
          "contourcarpet": [
           {
            "colorbar": {
             "outlinewidth": 0,
             "ticks": ""
            },
            "type": "contourcarpet"
           }
          ],
          "heatmap": [
           {
            "colorbar": {
             "outlinewidth": 0,
             "ticks": ""
            },
            "colorscale": [
             [
              0,
              "#0d0887"
             ],
             [
              0.1111111111111111,
              "#46039f"
             ],
             [
              0.2222222222222222,
              "#7201a8"
             ],
             [
              0.3333333333333333,
              "#9c179e"
             ],
             [
              0.4444444444444444,
              "#bd3786"
             ],
             [
              0.5555555555555556,
              "#d8576b"
             ],
             [
              0.6666666666666666,
              "#ed7953"
             ],
             [
              0.7777777777777778,
              "#fb9f3a"
             ],
             [
              0.8888888888888888,
              "#fdca26"
             ],
             [
              1,
              "#f0f921"
             ]
            ],
            "type": "heatmap"
           }
          ],
          "histogram": [
           {
            "marker": {
             "pattern": {
              "fillmode": "overlay",
              "size": 10,
              "solidity": 0.2
             }
            },
            "type": "histogram"
           }
          ],
          "histogram2d": [
           {
            "colorbar": {
             "outlinewidth": 0,
             "ticks": ""
            },
            "colorscale": [
             [
              0,
              "#0d0887"
             ],
             [
              0.1111111111111111,
              "#46039f"
             ],
             [
              0.2222222222222222,
              "#7201a8"
             ],
             [
              0.3333333333333333,
              "#9c179e"
             ],
             [
              0.4444444444444444,
              "#bd3786"
             ],
             [
              0.5555555555555556,
              "#d8576b"
             ],
             [
              0.6666666666666666,
              "#ed7953"
             ],
             [
              0.7777777777777778,
              "#fb9f3a"
             ],
             [
              0.8888888888888888,
              "#fdca26"
             ],
             [
              1,
              "#f0f921"
             ]
            ],
            "type": "histogram2d"
           }
          ],
          "histogram2dcontour": [
           {
            "colorbar": {
             "outlinewidth": 0,
             "ticks": ""
            },
            "colorscale": [
             [
              0,
              "#0d0887"
             ],
             [
              0.1111111111111111,
              "#46039f"
             ],
             [
              0.2222222222222222,
              "#7201a8"
             ],
             [
              0.3333333333333333,
              "#9c179e"
             ],
             [
              0.4444444444444444,
              "#bd3786"
             ],
             [
              0.5555555555555556,
              "#d8576b"
             ],
             [
              0.6666666666666666,
              "#ed7953"
             ],
             [
              0.7777777777777778,
              "#fb9f3a"
             ],
             [
              0.8888888888888888,
              "#fdca26"
             ],
             [
              1,
              "#f0f921"
             ]
            ],
            "type": "histogram2dcontour"
           }
          ],
          "mesh3d": [
           {
            "colorbar": {
             "outlinewidth": 0,
             "ticks": ""
            },
            "type": "mesh3d"
           }
          ],
          "parcoords": [
           {
            "line": {
             "colorbar": {
              "outlinewidth": 0,
              "ticks": ""
             }
            },
            "type": "parcoords"
           }
          ],
          "pie": [
           {
            "automargin": true,
            "type": "pie"
           }
          ],
          "scatter": [
           {
            "fillpattern": {
             "fillmode": "overlay",
             "size": 10,
             "solidity": 0.2
            },
            "type": "scatter"
           }
          ],
          "scatter3d": [
           {
            "line": {
             "colorbar": {
              "outlinewidth": 0,
              "ticks": ""
             }
            },
            "marker": {
             "colorbar": {
              "outlinewidth": 0,
              "ticks": ""
             }
            },
            "type": "scatter3d"
           }
          ],
          "scattercarpet": [
           {
            "marker": {
             "colorbar": {
              "outlinewidth": 0,
              "ticks": ""
             }
            },
            "type": "scattercarpet"
           }
          ],
          "scattergeo": [
           {
            "marker": {
             "colorbar": {
              "outlinewidth": 0,
              "ticks": ""
             }
            },
            "type": "scattergeo"
           }
          ],
          "scattergl": [
           {
            "marker": {
             "colorbar": {
              "outlinewidth": 0,
              "ticks": ""
             }
            },
            "type": "scattergl"
           }
          ],
          "scattermap": [
           {
            "marker": {
             "colorbar": {
              "outlinewidth": 0,
              "ticks": ""
             }
            },
            "type": "scattermap"
           }
          ],
          "scattermapbox": [
           {
            "marker": {
             "colorbar": {
              "outlinewidth": 0,
              "ticks": ""
             }
            },
            "type": "scattermapbox"
           }
          ],
          "scatterpolar": [
           {
            "marker": {
             "colorbar": {
              "outlinewidth": 0,
              "ticks": ""
             }
            },
            "type": "scatterpolar"
           }
          ],
          "scatterpolargl": [
           {
            "marker": {
             "colorbar": {
              "outlinewidth": 0,
              "ticks": ""
             }
            },
            "type": "scatterpolargl"
           }
          ],
          "scatterternary": [
           {
            "marker": {
             "colorbar": {
              "outlinewidth": 0,
              "ticks": ""
             }
            },
            "type": "scatterternary"
           }
          ],
          "surface": [
           {
            "colorbar": {
             "outlinewidth": 0,
             "ticks": ""
            },
            "colorscale": [
             [
              0,
              "#0d0887"
             ],
             [
              0.1111111111111111,
              "#46039f"
             ],
             [
              0.2222222222222222,
              "#7201a8"
             ],
             [
              0.3333333333333333,
              "#9c179e"
             ],
             [
              0.4444444444444444,
              "#bd3786"
             ],
             [
              0.5555555555555556,
              "#d8576b"
             ],
             [
              0.6666666666666666,
              "#ed7953"
             ],
             [
              0.7777777777777778,
              "#fb9f3a"
             ],
             [
              0.8888888888888888,
              "#fdca26"
             ],
             [
              1,
              "#f0f921"
             ]
            ],
            "type": "surface"
           }
          ],
          "table": [
           {
            "cells": {
             "fill": {
              "color": "#EBF0F8"
             },
             "line": {
              "color": "white"
             }
            },
            "header": {
             "fill": {
              "color": "#C8D4E3"
             },
             "line": {
              "color": "white"
             }
            },
            "type": "table"
           }
          ]
         },
         "layout": {
          "annotationdefaults": {
           "arrowcolor": "#2a3f5f",
           "arrowhead": 0,
           "arrowwidth": 1
          },
          "autotypenumbers": "strict",
          "coloraxis": {
           "colorbar": {
            "outlinewidth": 0,
            "ticks": ""
           }
          },
          "colorscale": {
           "diverging": [
            [
             0,
             "#8e0152"
            ],
            [
             0.1,
             "#c51b7d"
            ],
            [
             0.2,
             "#de77ae"
            ],
            [
             0.3,
             "#f1b6da"
            ],
            [
             0.4,
             "#fde0ef"
            ],
            [
             0.5,
             "#f7f7f7"
            ],
            [
             0.6,
             "#e6f5d0"
            ],
            [
             0.7,
             "#b8e186"
            ],
            [
             0.8,
             "#7fbc41"
            ],
            [
             0.9,
             "#4d9221"
            ],
            [
             1,
             "#276419"
            ]
           ],
           "sequential": [
            [
             0,
             "#0d0887"
            ],
            [
             0.1111111111111111,
             "#46039f"
            ],
            [
             0.2222222222222222,
             "#7201a8"
            ],
            [
             0.3333333333333333,
             "#9c179e"
            ],
            [
             0.4444444444444444,
             "#bd3786"
            ],
            [
             0.5555555555555556,
             "#d8576b"
            ],
            [
             0.6666666666666666,
             "#ed7953"
            ],
            [
             0.7777777777777778,
             "#fb9f3a"
            ],
            [
             0.8888888888888888,
             "#fdca26"
            ],
            [
             1,
             "#f0f921"
            ]
           ],
           "sequentialminus": [
            [
             0,
             "#0d0887"
            ],
            [
             0.1111111111111111,
             "#46039f"
            ],
            [
             0.2222222222222222,
             "#7201a8"
            ],
            [
             0.3333333333333333,
             "#9c179e"
            ],
            [
             0.4444444444444444,
             "#bd3786"
            ],
            [
             0.5555555555555556,
             "#d8576b"
            ],
            [
             0.6666666666666666,
             "#ed7953"
            ],
            [
             0.7777777777777778,
             "#fb9f3a"
            ],
            [
             0.8888888888888888,
             "#fdca26"
            ],
            [
             1,
             "#f0f921"
            ]
           ]
          },
          "colorway": [
           "#636efa",
           "#EF553B",
           "#00cc96",
           "#ab63fa",
           "#FFA15A",
           "#19d3f3",
           "#FF6692",
           "#B6E880",
           "#FF97FF",
           "#FECB52"
          ],
          "font": {
           "color": "#2a3f5f"
          },
          "geo": {
           "bgcolor": "white",
           "lakecolor": "white",
           "landcolor": "#E5ECF6",
           "showlakes": true,
           "showland": true,
           "subunitcolor": "white"
          },
          "hoverlabel": {
           "align": "left"
          },
          "hovermode": "closest",
          "mapbox": {
           "style": "light"
          },
          "paper_bgcolor": "white",
          "plot_bgcolor": "#E5ECF6",
          "polar": {
           "angularaxis": {
            "gridcolor": "white",
            "linecolor": "white",
            "ticks": ""
           },
           "bgcolor": "#E5ECF6",
           "radialaxis": {
            "gridcolor": "white",
            "linecolor": "white",
            "ticks": ""
           }
          },
          "scene": {
           "xaxis": {
            "backgroundcolor": "#E5ECF6",
            "gridcolor": "white",
            "gridwidth": 2,
            "linecolor": "white",
            "showbackground": true,
            "ticks": "",
            "zerolinecolor": "white"
           },
           "yaxis": {
            "backgroundcolor": "#E5ECF6",
            "gridcolor": "white",
            "gridwidth": 2,
            "linecolor": "white",
            "showbackground": true,
            "ticks": "",
            "zerolinecolor": "white"
           },
           "zaxis": {
            "backgroundcolor": "#E5ECF6",
            "gridcolor": "white",
            "gridwidth": 2,
            "linecolor": "white",
            "showbackground": true,
            "ticks": "",
            "zerolinecolor": "white"
           }
          },
          "shapedefaults": {
           "line": {
            "color": "#2a3f5f"
           }
          },
          "ternary": {
           "aaxis": {
            "gridcolor": "white",
            "linecolor": "white",
            "ticks": ""
           },
           "baxis": {
            "gridcolor": "white",
            "linecolor": "white",
            "ticks": ""
           },
           "bgcolor": "#E5ECF6",
           "caxis": {
            "gridcolor": "white",
            "linecolor": "white",
            "ticks": ""
           }
          },
          "title": {
           "x": 0.05
          },
          "xaxis": {
           "automargin": true,
           "gridcolor": "white",
           "linecolor": "white",
           "ticks": "",
           "title": {
            "standoff": 15
           },
           "zerolinecolor": "white",
           "zerolinewidth": 2
          },
          "yaxis": {
           "automargin": true,
           "gridcolor": "white",
           "linecolor": "white",
           "ticks": "",
           "title": {
            "standoff": 15
           },
           "zerolinecolor": "white",
           "zerolinewidth": 2
          }
         }
        },
        "title": {
         "text": "Sample Event Timeline (Durations Between Events)"
        },
        "xaxis": {
         "anchor": "y",
         "autorange": true,
         "domain": [
          0,
          1
         ],
         "range": [
          "2025-06-16 03:05:29.3851",
          "2025-06-25 05:38:10.5229"
         ],
         "type": "date"
        },
        "yaxis": {
         "anchor": "x",
         "autorange": true,
         "domain": [
          0,
          1
         ],
         "range": [
          49.5,
          -0.5
         ],
         "title": {
          "text": "sample_name"
         },
         "type": "category"
        }
       }
      },
      "image/png": "[encoded data removed]"
     },
     "metadata": {},
     "output_type": "display_data"
    }
   ],
   "source": [
    "build_timeline(client, False)"
   ]
  },
  {
   "cell_type": "code",
   "execution_count": null,
   "id": "9f4fdb2f-6f4b-4618-9c14-b55cdc8f474e",
   "metadata": {},
   "outputs": [],
   "source": []
  }
 ],
 "metadata": {
  "kernelspec": {
   "display_name": "Python 3 (ipykernel)",
   "language": "python",
   "name": "python3"
  },
  "language_info": {
   "codemirror_mode": {
    "name": "ipython",
    "version": 3
   },
   "file_extension": ".py",
   "mimetype": "text/x-python",
   "name": "python",
   "nbconvert_exporter": "python",
   "pygments_lexer": "ipython3",
   "version": "3.10.14"
  }
 },
 "nbformat": 4,
 "nbformat_minor": 5
}
