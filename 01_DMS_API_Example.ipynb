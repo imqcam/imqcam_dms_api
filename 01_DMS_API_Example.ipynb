{
 "cells": [
  {
   "cell_type": "markdown",
   "id": "3372a249-9215-4441-b2d4-d1561a23e22d",
   "metadata": {},
   "source": [
    "# HTMDEC DMS API Example\n",
    "\n",
    "This example demonstrates how to use the new HTMDEC DMS `/form` and `/entry` REST API endpoints to search for IMQCAM data which can be converted to a Pandas dataframe for analysis and visualization. "
   ]
  },
  {
   "cell_type": "markdown",
   "id": "0a32df52-f570-4995-a7f0-4300e9627e07",
   "metadata": {},
   "source": [
    "### Using the REST API\n",
    "\n",
    "The [Girder Client](https://girder.readthedocs.io/en/latest/python-client.html) can be used to query the REST endpoints directly. When running via the DMS, the API URL and user token required for access are available in the current environment.\n"
   ]
  },
  {
   "cell_type": "code",
   "execution_count": 1,
   "id": "489b86b5-91ba-4b13-a039-9b7ebc8a20cf",
   "metadata": {},
   "outputs": [
    {
     "data": {
      "text/plain": [
       "{'_id': '65c5387402ad536bd833de56'}"
      ]
     },
     "execution_count": 1,
     "metadata": {},
     "output_type": "execute_result"
    }
   ],
   "source": [
    "from girder_client import GirderClient\n",
    "import os\n",
    "import json\n",
    "import pandas as pd\n",
    "\n",
    "client = GirderClient(apiUrl='https://data.imqcam.org/api/v1')\n",
    "client.authenticate(apiKey=os.environ['GIRDER_API_KEY'])"
   ]
  },
  {
   "cell_type": "code",
   "execution_count": 2,
   "id": "2d30c56c",
   "metadata": {},
   "outputs": [
    {
     "name": "stdout",
     "output_type": "stream",
     "text": [
      "Number of IGSNs generated so far: 562\n"
     ]
    }
   ],
   "source": [
    "igsn = client.get('deposition', parameters={'limit': 1000})\n",
    "print(f\"Number of IGSNs generated so far: {len(igsn)}\")"
   ]
  },
  {
   "cell_type": "markdown",
   "id": "78398a2b-4b7c-49c9-8838-8658f303a9c7",
   "metadata": {},
   "source": [
    "A variety of data has been collected, from powder synthesis or build details, to characterizations"
   ]
  },
  {
   "cell_type": "code",
   "execution_count": 3,
   "id": "d59d3b69",
   "metadata": {},
   "outputs": [
    {
     "name": "stdout",
     "output_type": "stream",
     "text": [
      "Total number of form entries:  592\n"
     ]
    }
   ],
   "source": [
    "forms = client.get('entry', parameters={'limit': 1000})\n",
    "print(\"Total number of form entries: \", len(forms))"
   ]
  },
  {
   "cell_type": "markdown",
   "id": "464481ec-cf34-48f4-bd62-5abb8c419970",
   "metadata": {},
   "source": [
    "3 build origins have been scoped:"
   ]
  },
  {
   "cell_type": "code",
   "execution_count": 4,
   "id": "8d4fec83",
   "metadata": {},
   "outputs": [
    {
     "name": "stdout",
     "output_type": "stream",
     "text": [
      "Number of CMU IMQCAM build forms:  3\n",
      "Number of TTT forms:  201\n",
      "Number of ULI forms:  192\n",
      "Total number of builds:  396\n"
     ]
    }
   ],
   "source": [
    "imqcam_schema_id = '66425a71b18fa1c426e93aa0'\n",
    "ttt_schema_id = '67d39472366ec49ab59dd4db'\n",
    "uli_schema_id = '68922e35f5b193b7d3e07f5b'\n",
    "imqcam_builds = [form for form in forms if form['formId'] == imqcam_schema_id]\n",
    "print(\"Number of CMU IMQCAM build forms: \", len(imqcam_builds))\n",
    "ttt_builds = [form for form in forms if form['formId'] == ttt_schema_id]\n",
    "print(\"Number of TTT forms: \", len(ttt_builds))\n",
    "uli_builds = [form for form in forms if form['formId'] == uli_schema_id]\n",
    "print(\"Number of ULI forms: \", len(uli_builds))\n",
    "print(\"Total number of builds: \", len(uli_builds) + len(ttt_builds) + len(imqcam_builds))"
   ]
  },
  {
   "cell_type": "markdown",
   "id": "96ef11b8-9c11-4b1d-ad18-4a4333465666",
   "metadata": {},
   "source": [
    "# CMU Printer Forms"
   ]
  },
  {
   "cell_type": "markdown",
   "id": "10ba052d-e17f-40e6-a8a5-cdbe7268319c",
   "metadata": {},
   "source": [
    "An example of an IMQCAM build entry:"
   ]
  },
  {
   "cell_type": "code",
   "execution_count": 5,
   "id": "b2e3c7aa",
   "metadata": {},
   "outputs": [
    {
     "data": {
      "text/plain": [
       "{'_id': '68228459f43924f82b944d33',\n",
       " 'created': '2025-05-12T23:29:29.265000+00:00',\n",
       " 'creatorId': '67ad6270703d68f56a59a4e7',\n",
       " 'data': {'assignedIGSN': 'CMXMAL00007',\n",
       "  'buildGeometries': [{'count': 30, 'geometryType': 'TEN'},\n",
       "   {'count': 20, 'geometryType': 'AXFT'}],\n",
       "  'buildMachine': 'EOS M290 at CMU',\n",
       "  'buildParameters': {'contouringParameters': {'hatchSpacing': 0,\n",
       "    'laserPower': 150,\n",
       "    'laserVelocity': 1250,\n",
       "    'layerThickness': 30},\n",
       "   'downskinParameters': {'hatchSpacing': 0.08,\n",
       "    'laserPower': 90,\n",
       "    'laserVelocity': 1200,\n",
       "    'layerThickness': 30},\n",
       "   'infillParameters': {'hatchSpacing': 0.14,\n",
       "    'laserPower': 350,\n",
       "    'laserVelocity': 1300,\n",
       "    'layerThickness': 30},\n",
       "   'upskinParameters': {'hatchSpacing': 0,\n",
       "    'laserPower': 0,\n",
       "    'laserVelocity': 0,\n",
       "    'layerThickness': 0}},\n",
       "  'buildPlate': {'material': 'Ti-6Al-4V', 'temperature': 175},\n",
       "  'eosReportFile': '',\n",
       "  'extraInfo': [],\n",
       "  'flowGas': {'flowRate': 0, 'o2Concentration': 0, 'type': 'Ar'},\n",
       "  'igsn': {'batch': {'method': 'imqcam'},\n",
       "   'field': 'assignedIGSN',\n",
       "   'prefix': 'CMXMAL',\n",
       "   'request': False,\n",
       "   'suffix': '00007',\n",
       "   'track': True},\n",
       "  'igsnMeta': {'_text1': '',\n",
       "   'attributes': {},\n",
       "   'groupCM': 'X',\n",
       "   'institution': 'CM',\n",
       "   'material': 'MA',\n",
       "   'submaterialMA': 'L'},\n",
       "  'misc': [{'key': '', 'value': ''}],\n",
       "  'openjzFile': '',\n",
       "  'printerBuildID': '20241219_CMU_Ti-6Al-4V',\n",
       "  'rawPowderID': '663e8182b18fa1c426e93a7b',\n",
       "  'recoater': {'material': 'metal', 'style': 'blade'},\n",
       "  'userParameters': {'location': 'CMU',\n",
       "   'runDate': '2024-12-19',\n",
       "   'runTime': '10:30',\n",
       "   'teamMembers': []}},\n",
       " 'files': [],\n",
       " 'folderId': '66425960b18fa1c426e93a8f',\n",
       " 'folders': [],\n",
       " 'formId': '66425a71b18fa1c426e93aa0',\n",
       " 'uniqueId': '20241219_CMU_Ti-6Al-4V',\n",
       " 'updated': '2025-05-13T13:38:37.419000+00:00'}"
      ]
     },
     "execution_count": 5,
     "metadata": {},
     "output_type": "execute_result"
    }
   ],
   "source": [
    "imqcam_builds[0]"
   ]
  },
  {
   "cell_type": "markdown",
   "id": "156d8411-fe40-4427-b771-0ac8c7eb6c5c",
   "metadata": {},
   "source": [
    "What we can infer from the IMQCAM builds:"
   ]
  },
  {
   "cell_type": "code",
   "execution_count": 6,
   "id": "474db538",
   "metadata": {},
   "outputs": [
    {
     "name": "stdout",
     "output_type": "stream",
     "text": [
      "▶️ Geometry Counts by IGSN:\n",
      "\n",
      "CMXMAL00007:\n",
      "  TEN: 30\n",
      "  AXFT: 20\n",
      "\n",
      "CMXMAL00008:\n",
      "  4PTF: 32\n",
      "\n",
      "CMXMAL00010:\n",
      "  4PTF: 32\n",
      "\n",
      "🧮 Total Geometry Counts Across All IGSNs:\n",
      "TEN: 30\n",
      "AXFT: 20\n",
      "4PTF: 64\n"
     ]
    }
   ],
   "source": [
    "from collections import defaultdict\n",
    "\n",
    "# Part 1: Geometry counts per IGSN\n",
    "igsn_geometry_counts = defaultdict(lambda: defaultdict(int))\n",
    "\n",
    "for form in imqcam_builds:\n",
    "    igsn = form['data'].get('assignedIGSN', 'UNKNOWN_IGSN')\n",
    "    geometries = form['data'].get('buildGeometries', [])\n",
    "    for geom in geometries:\n",
    "        geometry_type = geom.get('geometryType')\n",
    "        count = geom.get('count', 0)\n",
    "        igsn_geometry_counts[igsn][geometry_type] += count\n",
    "\n",
    "print(\"▶️ Geometry Counts by IGSN:\")\n",
    "for igsn, geom_counts in igsn_geometry_counts.items():\n",
    "    print(f\"\\n{igsn}:\")\n",
    "    for geom_type, count in geom_counts.items():\n",
    "        print(f\"  {geom_type}: {count}\")\n",
    "\n",
    "# Part 2: Total geometry counts\n",
    "total_geometry_counts = defaultdict(int)\n",
    "\n",
    "for geom_counts in igsn_geometry_counts.values():\n",
    "    for geom_type, count in geom_counts.items():\n",
    "        total_geometry_counts[geom_type] += count\n",
    "\n",
    "# Print total geometry counts\n",
    "print(\"\\n🧮 Total Geometry Counts Across All IGSNs:\")\n",
    "for geom_type, total in total_geometry_counts.items():\n",
    "    print(f\"{geom_type}: {total}\")"
   ]
  },
  {
   "cell_type": "code",
   "execution_count": 7,
   "id": "a3ccfa09",
   "metadata": {},
   "outputs": [
    {
     "name": "stdout",
     "output_type": "stream",
     "text": [
      "▶️ Build Parameters by Geometry Type:\n",
      "\n",
      "Geometry: TEN\n",
      "  Role: contouringParameters\n",
      "    Params: {'hatchSpacing': 0, 'laserPower': 150, 'laserVelocity': 1250, 'layerThickness': 30} -> 1 builds\n",
      "  Role: downskinParameters\n",
      "    Params: {'hatchSpacing': 0.08, 'laserPower': 90, 'laserVelocity': 1200, 'layerThickness': 30} -> 1 builds\n",
      "  Role: infillParameters\n",
      "    Params: {'hatchSpacing': 0.14, 'laserPower': 350, 'laserVelocity': 1300, 'layerThickness': 30} -> 1 builds\n",
      "  Role: upskinParameters\n",
      "    Params: {'hatchSpacing': 0, 'laserPower': 0, 'laserVelocity': 0, 'layerThickness': 0} -> 1 builds\n",
      "\n",
      "Geometry: AXFT\n",
      "  Role: contouringParameters\n",
      "    Params: {'hatchSpacing': 0, 'laserPower': 150, 'laserVelocity': 1250, 'layerThickness': 30} -> 1 builds\n",
      "  Role: downskinParameters\n",
      "    Params: {'hatchSpacing': 0.08, 'laserPower': 90, 'laserVelocity': 1200, 'layerThickness': 30} -> 1 builds\n",
      "  Role: infillParameters\n",
      "    Params: {'hatchSpacing': 0.14, 'laserPower': 350, 'laserVelocity': 1300, 'layerThickness': 30} -> 1 builds\n",
      "  Role: upskinParameters\n",
      "    Params: {'hatchSpacing': 0, 'laserPower': 0, 'laserVelocity': 0, 'layerThickness': 0} -> 1 builds\n",
      "\n",
      "Geometry: 4PTF\n",
      "  Role: contouringParameters\n",
      "    Params: {'hatchSpacing': 140, 'laserPower': 370, 'laserVelocity': 1200, 'layerThickness': 30} -> 1 builds\n",
      "    Params: {'hatchSpacing': 0, 'laserPower': 0, 'laserVelocity': 0, 'layerThickness': 0} -> 1 builds\n",
      "  Role: downskinParameters\n",
      "    Params: {'hatchSpacing': 140, 'laserPower': 370, 'laserVelocity': 1200, 'layerThickness': 30} -> 1 builds\n",
      "    Params: {'hatchSpacing': 0, 'laserPower': 0, 'laserVelocity': 0, 'layerThickness': 0} -> 1 builds\n",
      "  Role: infillParameters\n",
      "    Params: {'hatchSpacing': 140, 'laserPower': 370, 'laserVelocity': 1200, 'layerThickness': 30} -> 2 builds\n",
      "  Role: upskinParameters\n",
      "    Params: {'hatchSpacing': 140, 'laserPower': 370, 'laserVelocity': 1200, 'layerThickness': 30} -> 1 builds\n",
      "    Params: {'hatchSpacing': 0, 'laserPower': 0, 'laserVelocity': 0, 'layerThickness': 0} -> 1 builds\n",
      "\n"
     ]
    }
   ],
   "source": [
    "from collections import defaultdict\n",
    "import json\n",
    "\n",
    "infill_rows = []\n",
    "# Map: geometryType -> role -> list of parameter dicts\n",
    "geometry_param_summary = defaultdict(lambda: defaultdict(list))\n",
    "\n",
    "for form in imqcam_builds:\n",
    "    geometries = form['data'].get('buildGeometries', [])\n",
    "    build_params = form['data'].get('buildParameters', {})\n",
    "\n",
    "    for geom in geometries:\n",
    "        geometry_type = geom.get('geometryType', 'UNKNOWN')\n",
    "        for role, params in build_params.items():\n",
    "            geometry_param_summary[geometry_type][role].append(params)\n",
    "            if role == 'infillParameters':\n",
    "                row = {\n",
    "                    'geometryType': geometry_type,\n",
    "                    **params\n",
    "                }\n",
    "                infill_rows.append(row)\n",
    "\n",
    "print(\"▶️ Build Parameters by Geometry Type:\\n\")\n",
    "\n",
    "from collections import Counter\n",
    "\n",
    "def serialize_params(param_dict):\n",
    "    return json.dumps(param_dict, sort_keys=True)\n",
    "\n",
    "for geom_type, role_dict in geometry_param_summary.items():\n",
    "    print(f\"Geometry: {geom_type}\")\n",
    "    for role, param_list in role_dict.items():\n",
    "        print(f\"  Role: {role}\")\n",
    "        counts = Counter(serialize_params(p) for p in param_list)\n",
    "        for param_json, count in counts.items():\n",
    "            print(f\"    Params: {json.loads(param_json)} -> {count} builds\")\n",
    "    print()"
   ]
  },
  {
   "cell_type": "code",
   "execution_count": 8,
   "id": "548c0073-aa18-4e70-9449-b31de5a92b01",
   "metadata": {},
   "outputs": [
    {
     "name": "stdout",
     "output_type": "stream",
     "text": [
      "\n",
      "📊 DataFrame of infillParameters builds:\n",
      "  geometryType  hatchSpacing  laserPower  laserVelocity  layerThickness\n",
      "0          TEN       0.00014         350           1300            0.03\n",
      "1         AXFT       0.00014         350           1300            0.03\n",
      "2         4PTF       0.14000         370           1200            0.03\n",
      "3         4PTF       0.14000         370           1200            0.03\n"
     ]
    }
   ],
   "source": [
    "imqcam_builds_infill = pd.DataFrame(infill_rows)\n",
    "print(\"\\n📊 DataFrame of infillParameters builds:\")\n",
    "\n",
    "# convertion from microns to mm for comformity with other builds\n",
    "imqcam_builds_infill['hatchSpacing'] /= 1000\n",
    "imqcam_builds_infill['layerThickness'] /= 1000\n",
    "\n",
    "print(imqcam_builds_infill.head())"
   ]
  },
  {
   "cell_type": "markdown",
   "id": "fbd64c0b-3fad-4086-bab2-9ebeb8eb63ba",
   "metadata": {},
   "source": [
    "# TTT"
   ]
  },
  {
   "cell_type": "code",
   "execution_count": 9,
   "id": "5c206261-5fca-4733-aaba-833610836fed",
   "metadata": {},
   "outputs": [
    {
     "data": {
      "text/plain": [
       "{'_id': '67eaf380366ec49ab59ddbb0',\n",
       " 'created': '2025-03-31T19:56:48.906000+00:00',\n",
       " 'data': {'Build_Date': '2022-01-01',\n",
       "  'Build_ID': 'A01_2022-01-01_JHUAPL_EOSM290_Ti64_Cylinder',\n",
       "  'DOE_Code': 1,\n",
       "  'DOE_ID': 'A',\n",
       "  'Elongation_Percent': 7.329018,\n",
       "  'Geometry': 'Cylinder',\n",
       "  'Hatch_mm': 0.14,\n",
       "  'Layer_mm': 0.03,\n",
       "  'Location': 'JHUAPL_EOSM290',\n",
       "  'Material': 'Ti64',\n",
       "  'Modulus_GPa': 82.95913,\n",
       "  'Orientation': 'Horizontal',\n",
       "  'Parameter_Label': 'A01',\n",
       "  'Peak_Stress_MPa': 1047.749,\n",
       "  'Percent_Porosity_Contour': 0.0109683,\n",
       "  'Porosity_percent_infill': 0.312183,\n",
       "  'Power_W': 160,\n",
       "  'Specimen_Position': 'On Build Plate',\n",
       "  'Speed_mm_per_s': 1200,\n",
       "  'Total_Porosity_Percent': 0.245827,\n",
       "  'VED_J_per_mm3': 31.74603174603174,\n",
       "  'Yield_Strength_MPa': 877.268},\n",
       " 'files': [],\n",
       " 'folderId': '67d394ae366ec49ab59dd4dd',\n",
       " 'folders': [],\n",
       " 'formId': '67d39472366ec49ab59dd4db',\n",
       " 'uniqueId': 'A01_2022-01-01_JHUAPL_EOSM290_Ti64_Cylinder',\n",
       " 'updated': '2025-03-31T19:56:48.906000+00:00'}"
      ]
     },
     "execution_count": 9,
     "metadata": {},
     "output_type": "execute_result"
    }
   ],
   "source": [
    "ttt_builds[0]"
   ]
  },
  {
   "cell_type": "code",
   "execution_count": 12,
   "id": "1a5949f8-f6a6-4947-8954-148b9c715def",
   "metadata": {},
   "outputs": [
    {
     "name": "stdout",
     "output_type": "stream",
     "text": [
      "📊 DataFrame for IMQCAM and TTT builds:\n",
      "    geometryType  hatchSpacing  laserPower  laserVelocity  layerThickness\n",
      "200          TTT          0.11         277           2641            0.03\n",
      "201          TTT          0.09          62            444            0.03\n",
      "202          TTT          0.05         106           1736            0.03\n",
      "203          TTT          0.11          60            539            0.03\n",
      "204          TTT          0.18         141            486            0.03\n"
     ]
    }
   ],
   "source": [
    "ttt_rows = []\n",
    "\n",
    "for form in ttt_builds:\n",
    "    d = form.get('data', {})\n",
    "\n",
    "    row = {\n",
    "        'geometryType': 'TTT',  # Hardcoded since geometry is missing\n",
    "        'hatchSpacing': d.get('Hatch_mm'),\n",
    "        'laserPower': d.get('Power_W'),\n",
    "        'laserVelocity': d.get('Speed_mm_per_s'),\n",
    "        'layerThickness': d.get('Layer_mm')\n",
    "    }\n",
    "\n",
    "    ttt_rows.append(row)\n",
    "\n",
    "ttt_builds_infill = pd.DataFrame(ttt_rows)\n",
    "\n",
    "# Append to existing df_infill\n",
    "df_infill = pd.concat([imqcam_builds_infill, ttt_builds_infill], ignore_index=True)\n",
    "\n",
    "print(\"📊 DataFrame for IMQCAM and TTT builds:\")\n",
    "print(df_infill.tail())"
   ]
  },
  {
   "cell_type": "markdown",
   "id": "7c360db5-68a9-4777-91bc-fd7eea69963a",
   "metadata": {},
   "source": [
    "# ULI"
   ]
  },
  {
   "cell_type": "code",
   "execution_count": 13,
   "id": "066fac52-9e56-425f-8ae5-37629f4dba38",
   "metadata": {},
   "outputs": [
    {
     "data": {
      "text/plain": [
       "{'_id': '689232cd6b3eda3a4033ad6a',\n",
       " 'created': '2025-08-05T16:35:25.503000+00:00',\n",
       " 'creatorId': '65b80ef4f4d3724f8bc3a004',\n",
       " 'data': {'buildId': 'CMU01.01',\n",
       "  'depositionId': '688bb89d98483efffe7fd1d2',\n",
       "  'hatchSpacing': 0.14,\n",
       "  'location': 'CMU',\n",
       "  'lookup': 'CMXMAL00011-01 - 688bb89d98483efffe7fd1d2 - CMU01.01',\n",
       "  'projectName': 'ULI',\n",
       "  'scanPower': 370,\n",
       "  'scanVelocity': 950},\n",
       " 'files': [],\n",
       " 'folderId': None,\n",
       " 'folders': [],\n",
       " 'formId': '68922e35f5b193b7d3e07f5b',\n",
       " 'uniqueId': 'CMU01.01',\n",
       " 'updated': '2025-08-05T16:35:25.503000+00:00'}"
      ]
     },
     "execution_count": 13,
     "metadata": {},
     "output_type": "execute_result"
    }
   ],
   "source": [
    "uli_builds[0]"
   ]
  },
  {
   "cell_type": "code",
   "execution_count": 14,
   "id": "4e3dde47-aa64-47db-a90a-254505369f9a",
   "metadata": {},
   "outputs": [
    {
     "name": "stdout",
     "output_type": "stream",
     "text": [
      "📊 Final Combined DataFrame:\n",
      "    geometryType  hatchSpacing laserPower  laserVelocity layerThickness\n",
      "392          ULI          0.14        280         1050.0           None\n",
      "393          ULI          0.14        280         1350.0           None\n",
      "394          ULI          0.14        280         1200.0           None\n",
      "395          ULI          0.14        280         1050.0           None\n",
      "396          ULI          0.14        280         1150.0           None\n"
     ]
    }
   ],
   "source": [
    "uli_rows = []\n",
    "\n",
    "for form in uli_builds:\n",
    "    d = form.get('data', {})\n",
    "\n",
    "    row = {\n",
    "        'geometryType': 'ULI',\n",
    "        'hatchSpacing': d.get('hatchSpacing'),\n",
    "        'laserPower': d.get('scanPower'),\n",
    "        'laserVelocity': d.get('scanVelocity'),\n",
    "        'layerThickness': None  # Explicitly set to None\n",
    "    }\n",
    "\n",
    "    uli_rows.append(row)\n",
    "\n",
    "uli_builds_infill = pd.DataFrame(uli_rows)\n",
    "\n",
    "df_infill = pd.concat([df_infill, uli_builds_infill], ignore_index=True)\n",
    "\n",
    "print(\"📊 Final Combined DataFrame:\")\n",
    "print(df_infill.tail())"
   ]
  },
  {
   "cell_type": "code",
   "execution_count": null,
   "id": "afc7f3b7-a1c1-461c-a170-c7243b934f94",
   "metadata": {},
   "outputs": [],
   "source": [
    "# Dump to CSV\n",
    "df_infill.to_csv(\"all_infill.csv\", index=False)"
   ]
  },
  {
   "cell_type": "code",
   "execution_count": null,
   "id": "ddd1ac76-4690-45a4-a054-318e0042ce5b",
   "metadata": {},
   "outputs": [],
   "source": []
  }
 ],
 "metadata": {
  "kernelspec": {
   "display_name": "Python 3 (ipykernel)",
   "language": "python",
   "name": "python3"
  },
  "language_info": {
   "codemirror_mode": {
    "name": "ipython",
    "version": 3
   },
   "file_extension": ".py",
   "mimetype": "text/x-python",
   "name": "python",
   "nbconvert_exporter": "python",
   "pygments_lexer": "ipython3",
   "version": "3.10.14"
  }
 },
 "nbformat": 4,
 "nbformat_minor": 5
}
