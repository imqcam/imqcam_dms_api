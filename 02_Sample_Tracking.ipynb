{
 "cells": [
  {
   "cell_type": "code",
   "execution_count": 1,
   "id": "b3a419de-975c-471e-9b2f-cf1a7fe0aed0",
   "metadata": {},
   "outputs": [],
   "source": [
    "from girder_client import GirderClient\n",
    "import os\n",
    "from imqcam import build_timeline"
   ]
  },
  {
   "cell_type": "code",
   "execution_count": 2,
   "id": "1e738cb1-6a4a-4477-9a14-458354f6e731",
   "metadata": {},
   "outputs": [
    {
     "data": {
      "text/plain": [
       "{'_id': '65c5387402ad536bd833de56'}"
      ]
     },
     "execution_count": 2,
     "metadata": {},
     "output_type": "execute_result"
    }
   ],
   "source": [
    "# Authenticate with GirderClient\n",
    "client = GirderClient(apiUrl=os.environ['GIRDER_API_URL'])\n",
    "client.authenticate(apiKey=os.environ[\"GIRDER_API_KEY\"])"
   ]
  },
  {
   "cell_type": "code",
   "execution_count": 3,
   "id": "4a5f8c27-8cc9-4c01-9907-abbc198cdc40",
   "metadata": {},
   "outputs": [
    {
     "data": {
      "application/vnd.plotly.v1+json": {
       "config": {
        "plotlyServerURL": "https://plot.ly"
       },
       "data": [
        {
         "base": [
          "2025-05-13T12:45:16.341000000",
          "2025-05-13T13:03:01.190000000",
          "2025-05-13T12:48:51.248000000",
          "2025-05-13T12:49:02.048000000",
          "2025-05-13T12:49:14.687000000",
          "2025-05-13T12:38:24.089000000",
          "2025-05-13T12:40:01.645000000",
          "2025-05-13T12:40:18.715000000",
          "2025-05-13T12:43:56.687000000",
          "2025-05-13T12:55:12.245000000",
          "2025-05-13T12:55:22.831000000",
          "2025-05-13T12:55:50.329000000",
          "2025-05-13T12:56:28.947000000",
          "2025-05-13T12:56:41.126000000",
          "2025-05-13T12:56:55.557000000",
          "2025-05-13T12:57:34.220000000",
          "2025-05-13T12:57:59.048000000",
          "2025-05-13T12:58:15.925000000",
          "2025-05-13T12:58:23.538000000",
          "2025-05-13T12:59:05.627000000",
          "2025-05-13T12:59:25.212000000",
          "2025-05-13T12:59:35.564000000",
          "2025-05-13T12:59:52.647000000",
          "2025-05-13T13:00:11.642000000",
          "2025-05-13T13:00:23.219000000",
          "2025-05-13T13:00:49.279000000",
          "2025-05-13T13:01:16.301000000",
          "2025-05-13T13:01:31.531000000",
          "2025-05-13T13:02:04.956000000",
          "2025-05-13T13:02:42.216000000",
          "2025-05-13T13:03:35.888000000",
          "2025-05-13T13:03:56.447000000",
          "2025-05-13T13:04:04.621000000",
          "2025-05-13T13:04:27.683000000",
          "2025-05-13T13:04:40.350000000",
          "2025-05-13T13:04:52.346000000",
          "2025-05-13T13:05:21.547000000",
          "2025-05-13T13:06:51.213000000",
          "2025-05-13T13:07:04.954000000",
          "2025-05-13T13:07:21.620000000",
          "2025-05-13T13:07:56.648000000",
          "2025-05-13T13:11:41.546000000",
          "2025-05-13T13:12:14.330000000",
          "2025-05-13T13:12:39.477000000",
          "2025-05-13T13:12:49.284000000",
          "2025-05-13T13:19:08.255000000",
          "2025-05-13T13:19:23.522000000",
          "2025-05-13T13:19:48.744000000",
          "2025-05-13T13:20:17.090000000",
          "2025-05-13T13:20:24.533000000",
          "2025-05-13T13:20:42.846000000",
          "2025-05-13T13:21:04.242000000",
          "2025-05-13T13:21:26.698000000",
          "2025-05-13T13:21:36.147000000",
          "2025-05-13T13:21:43.814000000",
          "2025-05-13T13:22:17.137000000",
          "2025-05-13T13:22:40.156000000",
          "2025-05-13T13:23:44.565000000",
          "2025-05-13T13:24:01.193000000",
          "2025-05-13T13:24:11.217000000",
          "2025-05-13T13:24:30.227000000",
          "2025-05-13T13:24:48.279000000",
          "2025-05-13T13:25:01.253000000",
          "2025-05-13T13:25:43.346000000",
          "2025-05-13T13:26:05.886000000",
          "2025-05-13T13:26:13.474000000",
          "2025-05-13T13:27:48.415000000",
          "2025-05-13T13:28:11.520000000",
          "2025-05-13T13:28:24.251000000",
          "2025-05-13T13:28:42.207000000",
          "2025-05-13T13:29:05.611000000",
          "2025-05-13T13:29:15.659000000",
          "2025-05-13T13:29:32.753000000",
          "2025-05-13T13:29:56.691000000",
          "2025-05-13T13:30:05.334000000",
          "2025-05-13T13:30:36.905000000",
          "2025-05-13T13:31:04.468000000",
          "2025-05-13T13:31:12.647000000",
          "2025-05-13T13:31:29.986000000",
          "2025-05-13T13:31:44.550000000",
          "2025-05-13T13:32:03.315000000",
          "2025-05-13T13:32:32.646000000",
          "2025-05-13T13:32:42.464000000",
          "2025-05-13T13:32:56.635000000",
          "2025-05-13T13:33:13.946000000",
          "2025-05-13T13:33:24.001000000",
          "2025-05-15T17:08:41.367000000",
          "2025-05-15T17:12:41.268000000",
          "2025-05-15T17:39:34.192000000",
          "2025-07-01T19:39:10.816000000",
          "2025-05-15T17:14:06.502000000",
          "2025-05-15T17:14:29.843000000",
          "2025-05-15T17:14:50.180000000",
          "2025-05-15T17:16:24.149000000",
          "2025-05-15T17:17:01.771000000",
          "2025-05-15T17:17:19.654000000",
          "2025-05-15T17:18:36.818000000",
          "2025-05-15T17:19:02.006000000",
          "2025-05-15T17:19:20.027000000",
          "2025-05-15T17:20:03.884000000",
          "2025-05-15T17:25:53.017000000",
          "2025-05-15T17:26:16.476000000",
          "2025-05-15T17:29:43.826000000",
          "2025-05-15T17:30:06.831000000",
          "2025-05-15T17:30:22.878000000",
          "2025-05-15T17:30:53.208000000",
          "2025-05-15T17:31:13.812000000",
          "2025-05-15T17:31:34.823000000",
          "2025-05-15T17:41:15.809000000",
          "2025-05-15T17:41:42.054000000",
          "2025-05-15T17:44:24.045000000",
          "2025-05-15T17:45:25.814000000",
          "2025-05-15T17:45:53.955000000",
          "2025-05-15T17:46:42.842000000",
          "2025-05-15T17:47:52.289000000",
          "2025-05-15T17:48:07.021000000",
          "2025-05-15T17:48:57.879000000",
          "2025-05-15T17:51:30.367000000",
          "2025-05-15T17:52:17.097000000",
          "2025-05-15T17:53:40.168000000",
          "2025-05-15T18:20:20.568000000",
          "2025-05-15T18:38:42.025000000",
          "2025-07-01T19:37:47.417000000",
          "2025-05-15T18:39:24.594000000",
          "2025-05-15T18:39:51.267000000",
          "2025-05-15T18:40:05.391000000",
          "2025-05-15T18:43:11.868000000",
          "2025-05-15T18:47:02.600000000",
          "2025-05-15T18:47:18.672000000",
          "2025-07-01T19:34:48.010000000",
          "2025-07-01T19:34:49.953000000",
          "2025-05-15T18:47:39.891000000",
          "2025-05-15T18:47:56.368000000",
          "2025-05-15T18:48:20.422000000",
          "2025-05-15T18:48:46.967000000",
          "2025-05-15T18:49:03.964000000",
          "2025-05-15T18:49:18.685000000",
          "2025-05-15T18:49:47.406000000",
          "2025-05-15T18:50:04.891000000",
          "2025-05-15T18:50:27.801000000",
          "2025-05-15T18:52:03.808000000",
          "2025-05-15T18:52:49.630000000",
          "2025-05-15T18:53:08.268000000",
          "2025-05-15T18:53:25.351000000",
          "2025-05-15T18:53:38.522000000",
          "2025-05-15T18:55:29.654000000",
          "2025-05-15T18:55:47.238000000",
          "2025-05-15T18:56:01.276000000",
          "2025-07-01T19:33:31.394000000"
         ],
         "customdata": [
          [
           "Sierra Green",
           "593ºC for 2 hours, 1.5ºC/min cooling rate, under argon ",
           "Carnegie Mellon University"
          ],
          [
           "Sierra Green",
           "",
           "Laboratory Testing Inc."
          ],
          [
           "Sierra Green",
           "593ºC for 2 hours, 1.5ºC/min cooling rate, under argon ",
           "Carnegie Mellon University"
          ],
          [
           "Sierra Green",
           "950ºC for 2 hours",
           "Solar Atmospheres"
          ],
          [
           "Sierra Green",
           "",
           "Laboratory Testing Inc."
          ],
          [
           "Sierra Green",
           "In argon, cooling rate 1.5C/min",
           "Carnegie Mellon University"
          ],
          [
           "Sierra Green",
           "950ºC for 2 hours, HIP",
           "Solar Atmospheres"
          ],
          [
           "Sierra Green",
           "",
           "Laboratory Testing Inc."
          ],
          [
           "Sierra Green",
           "593ºC for 2 hours, 1.5ºC/min cooling rate, under argon ",
           "Carnegie Mellon University"
          ],
          [
           "Sierra Green",
           "820ºC for 2 hours",
           "Solar Atmospheres"
          ],
          [
           "Sierra Green",
           "",
           "Laboratory Testing Inc."
          ],
          [
           "Sierra Green",
           "593ºC for 2 hours, 1.5ºC/min cooling rate, under argon ",
           "Carnegie Mellon University"
          ],
          [
           "Sierra Green",
           "820ºC for 2 hours, HIP at 190MPa",
           "Solar Atmospheres"
          ],
          [
           "Sierra Green",
           "",
           "Laboratory Testing Inc."
          ],
          [
           "Sierra Green",
           "593ºC for 2 hours, 1.5ºC/min cooling rate, under argon ",
           "Carnegie Mellon University"
          ],
          [
           "Sierra Green",
           "",
           "Unknown"
          ],
          [
           "Sierra Green",
           "593ºC for 2 hours, 1.5ºC/min cooling rate, under argon ",
           "Carnegie Mellon University"
          ],
          [
           "Sierra Green",
           "820ºC for 2 hours, HIP at 190MPa",
           "Solar Atmospheres"
          ],
          [
           "Sierra Green",
           "",
           "Laboratory Testing Inc."
          ],
          [
           "Sierra Green",
           "593ºC for 2 hours, 1.5ºC/min cooling rate, under argon ",
           "Carnegie Mellon University"
          ],
          [
           "Sierra Green",
           "820ºC for 2 hours",
           "Solar Atmospheres"
          ],
          [
           "Sierra Green",
           "",
           "Laboratory Testing Inc."
          ],
          [
           "Sierra Green",
           "593ºC for 2 hours, 1.5ºC/min cooling rate, under argon ",
           "Carnegie Mellon University"
          ],
          [
           "Sierra Green",
           "950ºC for 2 hours",
           "Solar Atmospheres"
          ],
          [
           "Sierra Green",
           "",
           "Laboratory Testing Inc."
          ],
          [
           "Sierra Green",
           "593ºC for 2 hours, 1.5ºC/min cooling rate, under argon ",
           "Carnegie Mellon University"
          ],
          [
           "Sierra Green",
           "",
           "Laboratory Testing Inc."
          ],
          [
           "Sierra Green",
           "593ºC for 2 hours, 1.5ºC/min cooling rate, under argon ",
           "Carnegie Mellon University"
          ],
          [
           "Sierra Green",
           "950ºC for 2 hours, HIP at 190MPa",
           "Solar Atmospheres"
          ],
          [
           "Sierra Green",
           "",
           "Laboratory Testing Inc."
          ],
          [
           "Sierra Green",
           "593ºC for 2 hours, 1.5ºC/min cooling rate, under argon ",
           "Carnegie Mellon University"
          ],
          [
           "Sierra Green",
           "820ºC for 2 hours, HIP at 190MPa",
           "Solar Atmospheres"
          ],
          [
           "Sierra Green",
           "",
           "Laboratory Testing Inc."
          ],
          [
           "Sierra Green",
           "593ºC for 2 hours, 1.5ºC/min cooling rate, under argon ",
           "Carnegie Mellon University"
          ],
          [
           "Sierra Green",
           "950ºC for 2 hours",
           "Solar Atmospheres"
          ],
          [
           "Sierra Green",
           "",
           "Laboratory Testing Inc."
          ],
          [
           "Sierra Green",
           "593ºC for 2 hours, 1.5ºC/min cooling rate, under argon ",
           "Carnegie Mellon University"
          ],
          [
           "Sierra Green",
           "as built, XZ scan of section removed from grips",
           "Carnegie Mellon University"
          ],
          [
           "Sierra Green",
           "",
           "Laboratory Testing Inc."
          ],
          [
           "Sierra Green",
           "593ºC for 2 hours, 1.5ºC/min cooling rate, under argon ",
           "Carnegie Mellon University"
          ],
          [
           "Sierra Green",
           "820ºC for 2 hours, HIP at 190MPa",
           "Solar Atmospheres"
          ],
          [
           "Sierra Green",
           "",
           "Laboratory Testing Inc."
          ],
          [
           "Sierra Green",
           "593ºC for 2 hours, 1.5ºC/min cooling rate, under argon ",
           "Carnegie Mellon University"
          ],
          [
           "Sierra Green",
           "950ºC for 2 hours, HIP at 190MPa",
           "Solar Atmospheres"
          ],
          [
           "Sierra Green",
           "",
           "Laboratory Testing Inc."
          ],
          [
           "Sierra Green",
           "593ºC for 2 hours, 1.5ºC/min cooling rate, under argon ",
           "Carnegie Mellon University"
          ],
          [
           "Sierra Green",
           "950ºC for 2 hours",
           "Solar Atmospheres"
          ],
          [
           "Sierra Green",
           "593ºC for 2 hours, 1.5ºC/min cooling rate, under argon ",
           "Carnegie Mellon University"
          ],
          [
           "Sierra Green",
           "820ºC for 2 hours",
           "Solar Atmospheres"
          ],
          [
           "Sierra Green",
           "",
           "Laboratory Testing Inc."
          ],
          [
           "Sierra Green",
           "593ºC for 2 hours, 1.5ºC/min cooling rate, under argon ",
           "Carnegie Mellon University"
          ],
          [
           "Sierra Green",
           "",
           "Laboratory Testing Inc."
          ],
          [
           "Sierra Green",
           "593ºC for 2 hours, 1.5ºC/min cooling rate, under argon ",
           "Carnegie Mellon University"
          ],
          [
           "Sierra Green",
           "820ºC for 2 hours, HIP at 190MPa",
           "Solar Atmospheres"
          ],
          [
           "Sierra Green",
           "",
           "Laboratory Testing Inc."
          ],
          [
           "Sierra Green",
           "593ºC for 2 hours, 1.5ºC/min cooling rate, under argon ",
           "Carnegie Mellon University"
          ],
          [
           "Sierra Green",
           "",
           "Laboratory Testing Inc."
          ],
          [
           "Sierra Green",
           "593ºC for 2 hours, 1.5ºC/min cooling rate, under argon ",
           "Carnegie Mellon University"
          ],
          [
           "Sierra Green",
           "950ºC for 2 hours",
           "Solar Atmospheres"
          ],
          [
           "Sierra Green",
           "",
           "Laboratory Testing Inc."
          ],
          [
           "Sierra Green",
           "593ºC for 2 hours, 1.5ºC/min cooling rate, under argon ",
           "Carnegie Mellon University"
          ],
          [
           "Sierra Green",
           "820ºC for 2 hours",
           "Solar Atmospheres"
          ],
          [
           "Sierra Green",
           "",
           "Laboratory Testing Inc."
          ],
          [
           "Sierra Green",
           "593ºC for 2 hours, 1.5ºC/min cooling rate, under argon ",
           "Carnegie Mellon University"
          ],
          [
           "Sierra Green",
           "950ºC for 2 hours, HIP at 190MPa",
           "Solar Atmospheres"
          ],
          [
           "Sierra Green",
           "",
           "Laboratory Testing Inc."
          ],
          [
           "Sierra Green",
           "593ºC for 2 hours, 1.5ºC/min cooling rate, under argon ",
           "Carnegie Mellon University"
          ],
          [
           "Sierra Green",
           "820ºC for 2 hours",
           "Solar Atmospheres"
          ],
          [
           "Sierra Green",
           "",
           "Laboratory Testing Inc."
          ],
          [
           "Sierra Green",
           "593ºC for 2 hours, 1.5ºC/min cooling rate, under argon ",
           "Carnegie Mellon University"
          ],
          [
           "Sierra Green",
           "950ºC for 2 hours, HIP at 190MPa",
           "Solar Atmospheres"
          ],
          [
           "Sierra Green",
           "",
           "Laboratory Testing Inc."
          ],
          [
           "Sierra Green",
           "593ºC for 2 hours, 1.5ºC/min cooling rate, under argon ",
           "Carnegie Mellon University"
          ],
          [
           "Sierra Green",
           "820ºC for 2 hours",
           "Solar Atmospheres"
          ],
          [
           "Sierra Green",
           "",
           "Laboratory Testing Inc."
          ],
          [
           "Sierra Green",
           "593ºC for 2 hours, 1.5ºC/min cooling rate, under argon ",
           "Carnegie Mellon University"
          ],
          [
           "Sierra Green",
           "820ºC for 2 hours, HIP at 190MPa",
           "Solar Atmospheres"
          ],
          [
           "Sierra Green",
           "",
           "Laboratory Testing Inc."
          ],
          [
           "Sierra Green",
           "593ºC for 2 hours, 1.5ºC/min cooling rate, under argon ",
           "Carnegie Mellon University"
          ],
          [
           "Sierra Green",
           "",
           "Laboratory Testing Inc."
          ],
          [
           "Sierra Green",
           "593ºC for 2 hours, 1.5ºC/min cooling rate, under argon ",
           "Carnegie Mellon University"
          ],
          [
           "Sierra Green",
           "950ºC for 2 hours",
           "Solar Atmospheres"
          ],
          [
           "Sierra Green",
           "",
           "Laboratory Testing Inc."
          ],
          [
           "Sierra Green",
           "593ºC for 2 hours, 1.5ºC/min cooling rate, under argon ",
           "Carnegie Mellon University"
          ],
          [
           "Sierra Green",
           "950ºC for 2 hours, HIP at 190MPa",
           "Solar Atmospheres"
          ],
          [
           "Sierra Green",
           "",
           "Laboratory Testing Inc."
          ],
          [
           "Sierra Green",
           "593ºC for 2 hours, 1.5ºC/min cooling rate, under argon ",
           "Carnegie Mellon University"
          ],
          [
           "Sierra Green",
           "",
           "Laboratory Testing Inc."
          ],
          [
           "Sierra Green",
           "XY image of microstructure slice from tensile grips",
           "Carnegie Mellon University"
          ],
          [
           "Sierra Green",
           "Microstructure cross section sent out for wide-field EBSD",
           "University of Ghent, Belgium"
          ],
          [
           "Sierra Green",
           "593ºC for 2 hours, 1.5ºC/min cooling rate, under argon ",
           "Carnegie Mellon University"
          ],
          [
           "Sierra Green",
           "820ºC for 2 hours, HIP at 190MPa",
           "Solar Atmospheres"
          ],
          [
           "Sierra Green",
           "",
           "Laboratory Testing Inc."
          ],
          [
           "Sierra Green",
           "593ºC for 2 hours, 1.5ºC/min cooling rate, under argon ",
           "Unknown"
          ],
          [
           "Sierra Green",
           "950ºC for 2 hours, HIP at 190MPa",
           "Solar Atmospheres"
          ],
          [
           "Sierra Green",
           "",
           "Laboratory Testing Inc."
          ],
          [
           "Sierra Green",
           "593ºC for 2 hours, 1.5ºC/min cooling rate, under argon ",
           "Carnegie Mellon University"
          ],
          [
           "Sierra Green",
           "820ºC for 2 hours",
           "Solar Atmospheres"
          ],
          [
           "Sierra Green",
           "",
           "Laboratory Testing Inc."
          ],
          [
           "Sierra Green",
           "593ºC for 2 hours, 1.5ºC/min cooling rate, under argon ",
           "Carnegie Mellon University"
          ],
          [
           "Sierra Green",
           "950ºC for 2 hours",
           "Solar Atmospheres"
          ],
          [
           "Sierra Green",
           "",
           "Laboratory Testing Inc."
          ],
          [
           "Sierra Green",
           "593ºC for 2 hours, 1.5ºC/min cooling rate, under argon ",
           "Carnegie Mellon University"
          ],
          [
           "Sierra Green",
           "820ºC for 2 hours, HIP at 190MPa",
           "Solar Atmospheres"
          ],
          [
           "Sierra Green",
           "",
           "Laboratory Testing Inc."
          ],
          [
           "Sierra Green",
           "593ºC for 2 hours, 1.5ºC/min cooling rate, under argon ",
           "Carnegie Mellon University"
          ],
          [
           "Sierra Green",
           "820ºC for 2 hours",
           "Solar Atmospheres"
          ],
          [
           "Sierra Green",
           "",
           "Laboratory Testing Inc."
          ],
          [
           "Sierra Green",
           "593ºC for 2 hours, 1.5ºC/min cooling rate, under argon ",
           "Carnegie Mellon University"
          ],
          [
           "Sierra Green",
           "950ºC for 2 hours",
           "Solar Atmospheres"
          ],
          [
           "Sierra Green",
           "",
           "Laboratory Testing Inc."
          ],
          [
           "Sierra Green",
           "593ºC for 2 hours, 1.5ºC/min cooling rate, under argon ",
           "Carnegie Mellon University"
          ],
          [
           "Sierra Green",
           "",
           "Laboratory Testing Inc."
          ],
          [
           "Sierra Green",
           "593ºC for 2 hours, 1.5ºC/min cooling rate, under argon ",
           "Carnegie Mellon University"
          ],
          [
           "Sierra Green",
           "950ºC for 2 hours, HIP at 190MPa",
           "Solar Atmospheres"
          ],
          [
           "Sierra Green",
           "",
           "Laboratory Testing Inc."
          ],
          [
           "Sierra Green",
           "593ºC for 2 hours, 1.5ºC/min cooling rate, under argon ",
           "Carnegie Mellon University"
          ],
          [
           "Sierra Green",
           "950ºC for 2 hours, HIP at 190MPa",
           "Solar Atmospheres"
          ],
          [
           "Sierra Green",
           "",
           "Laboratory Testing Inc."
          ],
          [
           "Sierra Green",
           "593ºC for 2 hours, 1.5ºC/min cooling rate, under argon ",
           "Carnegie Mellon University"
          ],
          [
           "Sierra Green",
           "XZ scan on microstructure slice from grips section ",
           "Carnegie Mellon University"
          ],
          [
           "Sierra Green",
           "",
           "Laboratory Testing Inc."
          ],
          [
           "Sierra Green",
           "Microstructure cross section sent out for wide-field EBSD",
           "University of Ghent, Belgium"
          ],
          [
           "Sierra Green",
           "593ºC for 2 hours, 1.5ºC/min cooling rate, under argon ",
           "Carnegie Mellon University"
          ],
          [
           "Sierra Green",
           "820ºC for 2 hours",
           "Solar Atmospheres"
          ],
          [
           "Sierra Green",
           "",
           "Laboratory Testing Inc."
          ],
          [
           "Sierra Green",
           "593ºC for 2 hours, 1.5ºC/min cooling rate, under argon ",
           "Carnegie Mellon University"
          ],
          [
           "Sierra Green",
           "950ºC for 2 hours",
           "Solar Atmospheres"
          ],
          [
           "Sierra Green",
           "",
           "Laboratory Testing Inc."
          ],
          [
           "Sierra Green",
           "Microstructure section sample for EBSD; XZ and XY",
           "Carnegie Mellon University"
          ],
          [
           "Sierra Green",
           "Microstructure section sample for EBSD; XZ and XY",
           "Carnegie Mellon University"
          ],
          [
           "Sierra Green",
           "593ºC for 2 hours, 1.5ºC/min cooling rate, under argon ",
           "Carnegie Mellon University"
          ],
          [
           "Sierra Green",
           "820ºC for 2 hours, HIP at 190MPa",
           "Solar Atmospheres"
          ],
          [
           "Sierra Green",
           "",
           "Laboratory Testing Inc."
          ],
          [
           "Sierra Green",
           "593ºC for 2 hours, 1.5ºC/min cooling rate, under argon ",
           "Carnegie Mellon University"
          ],
          [
           "Sierra Green",
           "950ºC for 2 hours",
           "Solar Atmospheres"
          ],
          [
           "Sierra Green",
           "",
           "Laboratory Testing Inc."
          ],
          [
           "Sierra Green",
           "593ºC for 2 hours, 1.5ºC/min cooling rate, under argon ",
           "Carnegie Mellon University"
          ],
          [
           "Sierra Green",
           "950ºC for 2 hours, HIP at 190MPa",
           "Solar Atmospheres"
          ],
          [
           "Sierra Green",
           "",
           "Laboratory Testing Inc."
          ],
          [
           "Sierra Green",
           "593ºC for 2 hours, 1.5ºC/min cooling rate, under argon ",
           "Carnegie Mellon University"
          ],
          [
           "Sierra Green",
           "",
           "Laboratory Testing Inc."
          ],
          [
           "Sierra Green",
           "593ºC for 2 hours, 1.5ºC/min cooling rate, under argon ",
           "Carnegie Mellon University"
          ],
          [
           "Sierra Green",
           "820ºC for 2 hours, HIP at 190MPa",
           "Solar Atmospheres"
          ],
          [
           "Sierra Green",
           "",
           "Laboratory Testing Inc."
          ],
          [
           "Sierra Green",
           "593ºC for 2 hours, 1.5ºC/min cooling rate, under argon ",
           "Carnegie Mellon University"
          ],
          [
           "Sierra Green",
           "820ºC for 2 hours",
           "Solar Atmospheres"
          ],
          [
           "Sierra Green",
           "",
           "Laboratory Testing Inc."
          ],
          [
           "Sierra Green",
           "Microstructure section sample for EBSD; XZ and XY",
           "Carnegie Mellon University"
          ]
         ],
         "hovertemplate": "creator=%{customdata[0]}<br>timestamp=%{base}<br>timestamp_end=%{x}<br>sample_name=%{y}<br>comment=%{customdata[1]}<br>location=%{customdata[2]}<extra></extra>",
         "legendgroup": "Sierra Green",
         "marker": {
          "color": "#636efa",
          "pattern": {
           "shape": ""
          }
         },
         "name": "Sierra Green",
         "orientation": "h",
         "showlegend": true,
         "textposition": "auto",
         "type": "bar",
         "x": {
          "_inputArray": {
           "0": 86400000,
           "1": 86400000,
           "10": 86400000,
           "100": 86400000,
           "101": 86400000,
           "102": 86400000,
           "103": 86400000,
           "104": 86400000,
           "105": 86400000,
           "106": 86400000,
           "107": 86400000,
           "108": 86400000,
           "109": 86400000,
           "11": 86400000,
           "110": 86400000,
           "111": 86400000,
           "112": 86400000,
           "113": 86400000,
           "114": 86400000,
           "115": 86400000,
           "116": 86400000,
           "117": 86400000,
           "118": 86400000,
           "119": 86400000,
           "12": 86400000,
           "120": 86400000,
           "121": 86400000,
           "122": 86400000,
           "123": 86400000,
           "124": 86400000,
           "125": 86400000,
           "126": 86400000,
           "127": 86400000,
           "128": 86400000,
           "129": 86400000,
           "13": 86400000,
           "130": 86400000,
           "131": 86400000,
           "132": 86400000,
           "133": 86400000,
           "134": 86400000,
           "135": 86400000,
           "136": 86400000,
           "137": 86400000,
           "138": 86400000,
           "139": 86400000,
           "14": 86400000,
           "140": 86400000,
           "141": 86400000,
           "142": 86400000,
           "143": 86400000,
           "144": 86400000,
           "145": 86400000,
           "146": 86400000,
           "147": 86400000,
           "148": 86400000,
           "15": 86400000,
           "16": 86400000,
           "17": 86400000,
           "18": 86400000,
           "19": 86400000,
           "2": 86400000,
           "20": 86400000,
           "21": 86400000,
           "22": 86400000,
           "23": 86400000,
           "24": 86400000,
           "25": 86400000,
           "26": 86400000,
           "27": 86400000,
           "28": 86400000,
           "29": 86400000,
           "3": 86400000,
           "30": 86400000,
           "31": 86400000,
           "32": 86400000,
           "33": 86400000,
           "34": 86400000,
           "35": 86400000,
           "36": 86400000,
           "37": 86400000,
           "38": 86400000,
           "39": 86400000,
           "4": 86400000,
           "40": 86400000,
           "41": 86400000,
           "42": 86400000,
           "43": 86400000,
           "44": 86400000,
           "45": 86400000,
           "46": 86400000,
           "47": 86400000,
           "48": 86400000,
           "49": 86400000,
           "5": 86400000,
           "50": 86400000,
           "51": 86400000,
           "52": 86400000,
           "53": 86400000,
           "54": 86400000,
           "55": 86400000,
           "56": 86400000,
           "57": 86400000,
           "58": 86400000,
           "59": 86400000,
           "6": 86400000,
           "60": 86400000,
           "61": 86400000,
           "62": 86400000,
           "63": 86400000,
           "64": 86400000,
           "65": 86400000,
           "66": 86400000,
           "67": 86400000,
           "68": 86400000,
           "69": 86400000,
           "7": 86400000,
           "70": 86400000,
           "71": 86400000,
           "72": 86400000,
           "73": 86400000,
           "74": 86400000,
           "75": 86400000,
           "76": 86400000,
           "77": 86400000,
           "78": 86400000,
           "79": 86400000,
           "8": 86400000,
           "80": 86400000,
           "81": 86400000,
           "82": 86400000,
           "83": 86400000,
           "84": 86400000,
           "85": 86400000,
           "86": 86400000,
           "87": 86400000,
           "88": 86400000,
           "89": 86400000,
           "9": 86400000,
           "90": 86400000,
           "91": 86400000,
           "92": 86400000,
           "93": 86400000,
           "94": 86400000,
           "95": 86400000,
           "96": 86400000,
           "97": 86400000,
           "98": 86400000,
           "99": 86400000,
           "bdata": "AFwmBQBcJgUAXCYFAFwmBQBcJgUAXCYFAFwmBQBcJgUAXCYFAFwmBQBcJgUAXCYFAFwmBQBcJgUAXCYFAFwmBQBcJgUAXCYFAFwmBQBcJgUAXCYFAFwmBQBcJgUAXCYFAFwmBQBcJgUAXCYFAFwmBQBcJgUAXCYFAFwmBQBcJgUAXCYFAFwmBQBcJgUAXCYFAFwmBQBcJgUAXCYFAFwmBQBcJgUAXCYFAFwmBQBcJgUAXCYFAFwmBQBcJgUAXCYFAFwmBQBcJgUAXCYFAFwmBQBcJgUAXCYFAFwmBQBcJgUAXCYFAFwmBQBcJgUAXCYFAFwmBQBcJgUAXCYFAFwmBQBcJgUAXCYFAFwmBQBcJgUAXCYFAFwmBQBcJgUAXCYFAFwmBQBcJgUAXCYFAFwmBQBcJgUAXCYFAFwmBQBcJgUAXCYFAFwmBQBcJgUAXCYFAFwmBQBcJgUAXCYFAFwmBQBcJgUAXCYFAFwmBQBcJgUAXCYFAFwmBQBcJgUAXCYFAFwmBQBcJgUAXCYFAFwmBQBcJgUAXCYFAFwmBQBcJgUAXCYFAFwmBQBcJgUAXCYFAFwmBQBcJgUAXCYFAFwmBQBcJgUAXCYFAFwmBQBcJgUAXCYFAFwmBQBcJgUAXCYFAFwmBQBcJgUAXCYFAFwmBQBcJgUAXCYFAFwmBQBcJgUAXCYFAFwmBQBcJgUAXCYFAFwmBQBcJgUAXCYFAFwmBQBcJgUAXCYFAFwmBQBcJgUAXCYFAFwmBQBcJgUAXCYFAFwmBQBcJgUAXCYFAFwmBQBcJgU=",
           "dtype": "i4",
           "shape": "149"
          },
          "bdata": "AFwmBQBcJgUAXCYFAFwmBQBcJgUAXCYFAFwmBQBcJgUAXCYFAFwmBQBcJgUAXCYFAFwmBQBcJgUAXCYFAFwmBQBcJgUAXCYFAFwmBQBcJgUAXCYFAFwmBQBcJgUAXCYFAFwmBQBcJgUAXCYFAFwmBQBcJgUAXCYFAFwmBQBcJgUAXCYFAFwmBQBcJgUAXCYFAFwmBQBcJgUAXCYFAFwmBQBcJgUAXCYFAFwmBQBcJgUAXCYFAFwmBQBcJgUAXCYFAFwmBQBcJgUAXCYFAFwmBQBcJgUAXCYFAFwmBQBcJgUAXCYFAFwmBQBcJgUAXCYFAFwmBQBcJgUAXCYFAFwmBQBcJgUAXCYFAFwmBQBcJgUAXCYFAFwmBQBcJgUAXCYFAFwmBQBcJgUAXCYFAFwmBQBcJgUAXCYFAFwmBQBcJgUAXCYFAFwmBQBcJgUAXCYFAFwmBQBcJgUAXCYFAFwmBQBcJgUAXCYFAFwmBQBcJgUAXCYFAFwmBQBcJgUAXCYFAFwmBQBcJgUAXCYFAFwmBQBcJgUAXCYFAFwmBQBcJgUAXCYFAFwmBQBcJgUAXCYFAFwmBQBcJgUAXCYFAFwmBQBcJgUAXCYFAFwmBQBcJgUAXCYFAFwmBQBcJgUAXCYFAFwmBQBcJgUAXCYFAFwmBQBcJgUAXCYFAFwmBQBcJgUAXCYFAFwmBQBcJgUAXCYFAFwmBQBcJgUAXCYFAFwmBQBcJgUAXCYFAFwmBQBcJgUAXCYFAFwmBQBcJgUAXCYFAFwmBQBcJgUAXCYFAFwmBQBcJgU=",
          "dtype": "i4"
         },
         "xaxis": "x",
         "y": [
          "CMXMAL00007",
          "CMXMAL00007",
          "CMXMAL00007-001",
          "CMXMAL00007-001",
          "CMXMAL00007-001",
          "CMXMAL00007-002",
          "CMXMAL00007-002",
          "CMXMAL00007-002",
          "CMXMAL00007-003",
          "CMXMAL00007-003",
          "CMXMAL00007-003",
          "CMXMAL00007-004",
          "CMXMAL00007-004",
          "CMXMAL00007-004",
          "CMXMAL00007-005",
          "CMXMAL00007-005",
          "CMXMAL00007-006",
          "CMXMAL00007-006",
          "CMXMAL00007-006",
          "CMXMAL00007-007",
          "CMXMAL00007-007",
          "CMXMAL00007-007",
          "CMXMAL00007-008",
          "CMXMAL00007-008",
          "CMXMAL00007-008",
          "CMXMAL00007-009",
          "CMXMAL00007-009",
          "CMXMAL00007-010",
          "CMXMAL00007-010",
          "CMXMAL00007-010",
          "CMXMAL00007-011",
          "CMXMAL00007-011",
          "CMXMAL00007-011",
          "CMXMAL00007-012",
          "CMXMAL00007-012",
          "CMXMAL00007-012",
          "CMXMAL00007-013",
          "CMXMAL00007-013",
          "CMXMAL00007-013",
          "CMXMAL00007-014",
          "CMXMAL00007-014",
          "CMXMAL00007-014",
          "CMXMAL00007-015",
          "CMXMAL00007-015",
          "CMXMAL00007-015",
          "CMXMAL00007-016",
          "CMXMAL00007-016",
          "CMXMAL00007-017",
          "CMXMAL00007-017",
          "CMXMAL00007-017",
          "CMXMAL00007-018",
          "CMXMAL00007-018",
          "CMXMAL00007-019",
          "CMXMAL00007-019",
          "CMXMAL00007-019",
          "CMXMAL00007-020",
          "CMXMAL00007-020",
          "CMXMAL00007-021",
          "CMXMAL00007-021",
          "CMXMAL00007-021",
          "CMXMAL00007-022",
          "CMXMAL00007-022",
          "CMXMAL00007-022",
          "CMXMAL00007-023",
          "CMXMAL00007-023",
          "CMXMAL00007-023",
          "CMXMAL00007-024",
          "CMXMAL00007-024",
          "CMXMAL00007-024",
          "CMXMAL00007-025",
          "CMXMAL00007-025",
          "CMXMAL00007-025",
          "CMXMAL00007-026",
          "CMXMAL00007-026",
          "CMXMAL00007-026",
          "CMXMAL00007-027",
          "CMXMAL00007-027",
          "CMXMAL00007-027",
          "CMXMAL00007-028",
          "CMXMAL00007-028",
          "CMXMAL00007-029",
          "CMXMAL00007-029",
          "CMXMAL00007-029",
          "CMXMAL00007-030",
          "CMXMAL00007-030",
          "CMXMAL00007-030",
          "CMXMAL00007-031",
          "CMXMAL00007-031",
          "CMXMAL00007-031",
          "CMXMAL00007-031",
          "CMXMAL00007-032",
          "CMXMAL00007-032",
          "CMXMAL00007-032",
          "CMXMAL00007-033",
          "CMXMAL00007-033",
          "CMXMAL00007-033",
          "CMXMAL00007-034",
          "CMXMAL00007-034",
          "CMXMAL00007-034",
          "CMXMAL00007-035",
          "CMXMAL00007-035",
          "CMXMAL00007-035",
          "CMXMAL00007-036",
          "CMXMAL00007-036",
          "CMXMAL00007-036",
          "CMXMAL00007-037",
          "CMXMAL00007-037",
          "CMXMAL00007-037",
          "CMXMAL00007-038",
          "CMXMAL00007-038",
          "CMXMAL00007-038",
          "CMXMAL00007-039",
          "CMXMAL00007-039",
          "CMXMAL00007-040",
          "CMXMAL00007-040",
          "CMXMAL00007-040",
          "CMXMAL00007-041",
          "CMXMAL00007-041",
          "CMXMAL00007-041",
          "CMXMAL00007-042",
          "CMXMAL00007-042",
          "CMXMAL00007-042",
          "CMXMAL00007-042",
          "CMXMAL00007-043",
          "CMXMAL00007-043",
          "CMXMAL00007-043",
          "CMXMAL00007-044",
          "CMXMAL00007-044",
          "CMXMAL00007-044",
          "CMXMAL00007-044",
          "CMXMAL00007-044",
          "CMXMAL00007-045",
          "CMXMAL00007-045",
          "CMXMAL00007-045",
          "CMXMAL00007-046",
          "CMXMAL00007-046",
          "CMXMAL00007-046",
          "CMXMAL00007-047",
          "CMXMAL00007-047",
          "CMXMAL00007-047",
          "CMXMAL00007-048",
          "CMXMAL00007-048",
          "CMXMAL00007-049",
          "CMXMAL00007-049",
          "CMXMAL00007-049",
          "CMXMAL00007-050",
          "CMXMAL00007-050",
          "CMXMAL00007-050",
          "CMXMAL00007-050"
         ],
         "yaxis": "y"
        },
        {
         "base": [
          "2025-06-20T16:48:53.237000000",
          "2025-06-20T16:49:36.530000000",
          "2025-06-20T16:49:48.241000000",
          "2025-06-20T16:50:21.727000000",
          "2025-06-20T16:50:29.639000000",
          "2025-06-20T16:51:08.603000000",
          "2025-06-20T16:53:38.065000000",
          "2025-06-20T16:53:39.649000000",
          "2025-06-20T16:53:50.167000000",
          "2025-06-20T16:58:08.924000000",
          "2025-06-20T16:59:03.367000000",
          "2025-06-20T16:59:18.593000000",
          "2025-06-20T17:01:31.865000000",
          "2025-06-20T17:01:44.160000000",
          "2025-06-20T17:02:05.655000000",
          "2025-06-20T17:02:14.958000000",
          "2025-06-20T17:02:35.198000000",
          "2025-06-20T17:02:52.066000000",
          "2025-06-20T17:03:10.009000000",
          "2025-06-20T17:03:19.611000000",
          "2025-06-20T17:04:06.777000000",
          "2025-06-20T17:04:18.227000000",
          "2025-06-20T17:04:35.884000000",
          "2025-06-20T17:04:47.137000000",
          "2025-06-20T17:05:01.752000000",
          "2025-06-20T17:05:14.908000000",
          "2025-06-20T17:05:33.167000000",
          "2025-06-20T17:05:51.457000000",
          "2025-06-20T17:07:42.321000000",
          "2025-06-20T17:07:52.065000000",
          "2025-06-20T17:08:08.342000000",
          "2025-06-20T17:08:26.882000000",
          "2025-06-20T17:08:36.536000000",
          "2025-06-20T17:08:58.076000000",
          "2025-06-20T17:09:10.365000000",
          "2025-06-20T17:09:31.766000000",
          "2025-06-20T17:09:40.850000000",
          "2025-06-20T17:09:59.124000000",
          "2025-06-20T17:10:09.651000000",
          "2025-06-20T17:10:26.599000000",
          "2025-06-20T17:10:36.912000000",
          "2025-06-20T17:10:55.191000000",
          "2025-06-20T17:11:03.777000000",
          "2025-06-20T17:11:20.249000000",
          "2025-06-20T17:11:34.836000000",
          "2025-06-20T17:13:19.785000000",
          "2025-06-20T17:13:39.135000000",
          "2025-06-20T17:14:08.509000000",
          "2025-06-20T17:14:26.597000000",
          "2025-06-20T17:14:35.422000000",
          "2025-06-20T17:14:51.872000000",
          "2025-06-20T17:15:03.172000000",
          "2025-06-20T17:15:21.896000000",
          "2025-06-20T17:15:40.865000000",
          "2025-06-20T17:15:50.070000000",
          "2025-06-20T17:16:06.785000000",
          "2025-06-20T17:16:15.648000000",
          "2025-06-16T14:01:07.442000000",
          "2025-06-20T17:17:40.174000000",
          "2025-06-20T17:17:50.867000000",
          "2025-06-20T17:18:09.338000000",
          "2025-06-20T17:18:20.305000000",
          "2025-06-20T17:18:45.171000000",
          "2025-06-20T17:18:54.078000000",
          "2025-06-20T17:19:13.877000000",
          "2025-06-20T17:19:23.804000000",
          "2025-06-20T17:19:45.057000000",
          "2025-06-20T17:19:54.900000000",
          "2025-06-20T17:20:10.964000000",
          "2025-06-20T17:20:34.240000000",
          "2025-06-20T17:20:52.863000000",
          "2025-06-20T17:21:03.992000000",
          "2025-06-20T17:21:19.345000000",
          "2025-06-20T17:21:27.649000000",
          "2025-06-20T17:22:30.334000000",
          "2025-06-20T17:22:38.312000000",
          "2025-06-20T17:22:52.166000000",
          "2025-06-20T17:23:04.444000000",
          "2025-06-20T17:23:20.365000000",
          "2025-06-20T17:23:29.924000000",
          "2025-06-20T17:23:42.859000000",
          "2025-06-20T17:23:52.002000000",
          "2025-06-20T17:24:13.275000000",
          "2025-06-20T17:24:26.113000000",
          "2025-06-20T17:24:40.267000000",
          "2025-06-20T17:24:49.293000000",
          "2025-06-20T17:25:05.398000000",
          "2025-06-20T17:25:18.198000000",
          "2025-06-20T17:25:36.651000000",
          "2025-06-20T17:25:46.002000000",
          "2025-06-20T17:26:42.589000000",
          "2025-06-20T17:26:50.492000000",
          "2025-06-20T17:27:04.463000000",
          "2025-06-20T17:27:11.965000000",
          "2025-06-20T17:27:27.158000000",
          "2025-06-20T17:27:36.115000000",
          "2025-06-20T17:27:50.609000000",
          "2025-06-20T17:28:00.267000000",
          "2025-06-20T17:28:18.560000000",
          "2025-06-20T17:28:31.391000000",
          "2025-06-20T17:28:48.347000000",
          "2025-06-20T17:28:56.148000000",
          "2025-06-20T17:29:09.594000000",
          "2025-06-20T17:29:21.793000000",
          "2025-06-20T17:29:38.356000000",
          "2025-06-20T17:29:46.404000000",
          "2025-06-20T17:30:47.185000000",
          "2025-06-20T17:30:55.189000000",
          "2025-06-20T17:31:09.135000000",
          "2025-06-20T17:31:16.985000000",
          "2025-06-20T17:31:51.464000000",
          "2025-06-20T17:32:03.509000000",
          "2025-06-20T17:32:17.160000000",
          "2025-06-20T17:32:24.496000000",
          "2025-06-20T17:32:37.841000000",
          "2025-06-20T17:32:46.176000000",
          "2025-06-20T17:32:59.743000000",
          "2025-06-20T17:33:09.587000000",
          "2025-06-20T17:33:24.891000000",
          "2025-06-20T17:33:35.422000000",
          "2025-06-20T17:33:46.869000000",
          "2025-06-20T17:33:57.886000000"
         ],
         "customdata": [
          [
           "Katie O'Donnell",
           "",
           "CMU"
          ],
          [
           "Katie O'Donnell",
           "",
           "CMU"
          ],
          [
           "Katie O'Donnell",
           "",
           "Unknown"
          ],
          [
           "Katie O'Donnell",
           "",
           "CMU"
          ],
          [
           "Katie O'Donnell",
           "",
           "Unknown"
          ],
          [
           "Katie O'Donnell",
           "",
           "CMU"
          ],
          [
           "Katie O'Donnell",
           "",
           "CMU"
          ],
          [
           "Katie O'Donnell",
           "",
           "CMU"
          ],
          [
           "Katie O'Donnell",
           "",
           ""
          ],
          [
           "Katie O'Donnell",
           "",
           "CMU"
          ],
          [
           "Katie O'Donnell",
           "",
           "CMU"
          ],
          [
           "Katie O'Donnell",
           "",
           "Unknown"
          ],
          [
           "Katie O'Donnell",
           "",
           "CMU"
          ],
          [
           "Katie O'Donnell",
           "",
           "Unknown"
          ],
          [
           "Katie O'Donnell",
           "",
           "CMU"
          ],
          [
           "Katie O'Donnell",
           "",
           "Unknown"
          ],
          [
           "Katie O'Donnell",
           "",
           "CMU"
          ],
          [
           "Katie O'Donnell",
           "",
           "Unknown"
          ],
          [
           "Katie O'Donnell",
           "",
           "CMU"
          ],
          [
           "Katie O'Donnell",
           "",
           "Unknown"
          ],
          [
           "Katie O'Donnell",
           "",
           "CMU"
          ],
          [
           "Katie O'Donnell",
           "",
           "Unknown"
          ],
          [
           "Katie O'Donnell",
           "",
           "CMU"
          ],
          [
           "Katie O'Donnell",
           "",
           "Unknown"
          ],
          [
           "Katie O'Donnell",
           "",
           "CMU"
          ],
          [
           "Katie O'Donnell",
           "",
           "Unknown"
          ],
          [
           "Katie O'Donnell",
           "",
           "CMU"
          ],
          [
           "Katie O'Donnell",
           "",
           "CMU"
          ],
          [
           "Katie O'Donnell",
           "",
           "CMU"
          ],
          [
           "Katie O'Donnell",
           "",
           "Unknown"
          ],
          [
           "Katie O'Donnell",
           "",
           "CMU"
          ],
          [
           "Katie O'Donnell",
           "",
           "CMU"
          ],
          [
           "Katie O'Donnell",
           "",
           "Unknown"
          ],
          [
           "Katie O'Donnell",
           "",
           "CMU"
          ],
          [
           "Katie O'Donnell",
           "",
           "Unknown"
          ],
          [
           "Katie O'Donnell",
           "",
           "CMU"
          ],
          [
           "Katie O'Donnell",
           "",
           "Unknown"
          ],
          [
           "Katie O'Donnell",
           "",
           "CMU"
          ],
          [
           "Katie O'Donnell",
           "",
           "Unknown"
          ],
          [
           "Katie O'Donnell",
           "",
           "CMU"
          ],
          [
           "Katie O'Donnell",
           "",
           "Unknown"
          ],
          [
           "Katie O'Donnell",
           "",
           "CMU"
          ],
          [
           "Katie O'Donnell",
           "",
           "Unknown"
          ],
          [
           "Katie O'Donnell",
           "",
           "c"
          ],
          [
           "Katie O'Donnell",
           "",
           "Unknown"
          ],
          [
           "Katie O'Donnell",
           "",
           "CMU"
          ],
          [
           "Katie O'Donnell",
           "",
           "CMU"
          ],
          [
           "Katie O'Donnell",
           "",
           "Unknown"
          ],
          [
           "Katie O'Donnell",
           "",
           "CMU"
          ],
          [
           "Katie O'Donnell",
           "",
           "Unknown"
          ],
          [
           "Katie O'Donnell",
           "",
           "CMU"
          ],
          [
           "Katie O'Donnell",
           "",
           "Unknown"
          ],
          [
           "Katie O'Donnell",
           "",
           "CMU"
          ],
          [
           "Katie O'Donnell",
           "",
           "CMU"
          ],
          [
           "Katie O'Donnell",
           "",
           "Unknown"
          ],
          [
           "Katie O'Donnell",
           "",
           "CMU"
          ],
          [
           "Katie O'Donnell",
           "",
           "Unknown"
          ],
          [
           "Katie O'Donnell",
           "All 4PB samples from build, heat treated and machined, were sent to CWRU",
           "Unknown"
          ],
          [
           "Katie O'Donnell",
           "",
           "CMU"
          ],
          [
           "Katie O'Donnell",
           "",
           "Unknown"
          ],
          [
           "Katie O'Donnell",
           "",
           "CMU"
          ],
          [
           "Katie O'Donnell",
           "",
           "Unknown"
          ],
          [
           "Katie O'Donnell",
           "",
           "CMU"
          ],
          [
           "Katie O'Donnell",
           "",
           "Unknown"
          ],
          [
           "Katie O'Donnell",
           "",
           "CMU"
          ],
          [
           "Katie O'Donnell",
           "",
           "Unknown"
          ],
          [
           "Katie O'Donnell",
           "",
           "CMU"
          ],
          [
           "Katie O'Donnell",
           "",
           "Unknown"
          ],
          [
           "Katie O'Donnell",
           "",
           "CMU"
          ],
          [
           "Katie O'Donnell",
           "",
           "Unknown"
          ],
          [
           "Katie O'Donnell",
           "",
           "CMU"
          ],
          [
           "Katie O'Donnell",
           "",
           "Unknown"
          ],
          [
           "Katie O'Donnell",
           "",
           "CMU"
          ],
          [
           "Katie O'Donnell",
           "",
           "Unknown"
          ],
          [
           "Katie O'Donnell",
           "",
           "CMU"
          ],
          [
           "Katie O'Donnell",
           "",
           "Unknown"
          ],
          [
           "Katie O'Donnell",
           "",
           "CMU"
          ],
          [
           "Katie O'Donnell",
           "",
           "Unknown"
          ],
          [
           "Katie O'Donnell",
           "",
           "CMU"
          ],
          [
           "Katie O'Donnell",
           "",
           "Unknown"
          ],
          [
           "Katie O'Donnell",
           "",
           "CMU"
          ],
          [
           "Katie O'Donnell",
           "",
           "Unknown"
          ],
          [
           "Katie O'Donnell",
           "",
           "CMU"
          ],
          [
           "Katie O'Donnell",
           "",
           "Unknown"
          ],
          [
           "Katie O'Donnell",
           "",
           "CMU"
          ],
          [
           "Katie O'Donnell",
           "",
           "Unknown"
          ],
          [
           "Katie O'Donnell",
           "",
           "CMU"
          ],
          [
           "Katie O'Donnell",
           "",
           "Unknown"
          ],
          [
           "Katie O'Donnell",
           "",
           "CMU"
          ],
          [
           "Katie O'Donnell",
           "",
           "Unknown"
          ],
          [
           "Katie O'Donnell",
           "",
           "CMU"
          ],
          [
           "Katie O'Donnell",
           "",
           "Unknown"
          ],
          [
           "Katie O'Donnell",
           "",
           "CMU"
          ],
          [
           "Katie O'Donnell",
           "",
           "Unknown"
          ],
          [
           "Katie O'Donnell",
           "",
           "CMU"
          ],
          [
           "Katie O'Donnell",
           "",
           "Unknown"
          ],
          [
           "Katie O'Donnell",
           "",
           "CMU"
          ],
          [
           "Katie O'Donnell",
           "",
           "Unknown"
          ],
          [
           "Katie O'Donnell",
           "",
           "CMU"
          ],
          [
           "Katie O'Donnell",
           "",
           "Unknown"
          ],
          [
           "Katie O'Donnell",
           "",
           "CMU"
          ],
          [
           "Katie O'Donnell",
           "",
           "Unknown"
          ],
          [
           "Katie O'Donnell",
           "",
           "CMU"
          ],
          [
           "Katie O'Donnell",
           "",
           "Unknown"
          ],
          [
           "Katie O'Donnell",
           "",
           "CMU"
          ],
          [
           "Katie O'Donnell",
           "",
           "Unknown"
          ],
          [
           "Katie O'Donnell",
           "",
           "CMU"
          ],
          [
           "Katie O'Donnell",
           "",
           "Unknown"
          ],
          [
           "Katie O'Donnell",
           "",
           "CMU"
          ],
          [
           "Katie O'Donnell",
           "",
           "Unknown"
          ],
          [
           "Katie O'Donnell",
           "",
           "CMU"
          ],
          [
           "Katie O'Donnell",
           "",
           "Unknown"
          ],
          [
           "Katie O'Donnell",
           "",
           "CMU"
          ],
          [
           "Katie O'Donnell",
           "",
           "Unknown"
          ],
          [
           "Katie O'Donnell",
           "",
           "CMU"
          ],
          [
           "Katie O'Donnell",
           "",
           "Unknown"
          ],
          [
           "Katie O'Donnell",
           "",
           "CMU"
          ],
          [
           "Katie O'Donnell",
           "",
           "Unknown"
          ],
          [
           "Katie O'Donnell",
           "",
           "CMU"
          ],
          [
           "Katie O'Donnell",
           "",
           "Unknown"
          ],
          [
           "Katie O'Donnell",
           "",
           "CMU"
          ],
          [
           "Katie O'Donnell",
           "",
           "Unknown"
          ]
         ],
         "hovertemplate": "creator=%{customdata[0]}<br>timestamp=%{base}<br>timestamp_end=%{x}<br>sample_name=%{y}<br>comment=%{customdata[1]}<br>location=%{customdata[2]}<extra></extra>",
         "legendgroup": "Katie O'Donnell",
         "marker": {
          "color": "#EF553B",
          "pattern": {
           "shape": ""
          }
         },
         "name": "Katie O'Donnell",
         "orientation": "h",
         "showlegend": true,
         "textposition": "auto",
         "type": "bar",
         "x": {
          "_inputArray": {
           "0": 86400000,
           "1": 86400000,
           "10": 86400000,
           "100": 86400000,
           "101": 86400000,
           "102": 86400000,
           "103": 86400000,
           "104": 86400000,
           "105": 86400000,
           "106": 86400000,
           "107": 86400000,
           "108": 86400000,
           "109": 86400000,
           "11": 86400000,
           "110": 86400000,
           "111": 86400000,
           "112": 86400000,
           "113": 86400000,
           "114": 86400000,
           "115": 86400000,
           "116": 86400000,
           "117": 86400000,
           "118": 86400000,
           "119": 86400000,
           "12": 86400000,
           "120": 86400000,
           "121": 86400000,
           "13": 86400000,
           "14": 86400000,
           "15": 86400000,
           "16": 86400000,
           "17": 86400000,
           "18": 86400000,
           "19": 86400000,
           "2": 86400000,
           "20": 86400000,
           "21": 86400000,
           "22": 86400000,
           "23": 86400000,
           "24": 86400000,
           "25": 86400000,
           "26": 86400000,
           "27": 86400000,
           "28": 86400000,
           "29": 86400000,
           "3": 86400000,
           "30": 86400000,
           "31": 86400000,
           "32": 86400000,
           "33": 86400000,
           "34": 86400000,
           "35": 86400000,
           "36": 86400000,
           "37": 86400000,
           "38": 86400000,
           "39": 86400000,
           "4": 86400000,
           "40": 86400000,
           "41": 86400000,
           "42": 86400000,
           "43": 86400000,
           "44": 86400000,
           "45": 86400000,
           "46": 86400000,
           "47": 86400000,
           "48": 86400000,
           "49": 86400000,
           "5": 86400000,
           "50": 86400000,
           "51": 86400000,
           "52": 86400000,
           "53": 86400000,
           "54": 86400000,
           "55": 86400000,
           "56": 86400000,
           "57": 86400000,
           "58": 86400000,
           "59": 86400000,
           "6": 86400000,
           "60": 86400000,
           "61": 86400000,
           "62": 86400000,
           "63": 86400000,
           "64": 86400000,
           "65": 86400000,
           "66": 86400000,
           "67": 86400000,
           "68": 86400000,
           "69": 86400000,
           "7": 86400000,
           "70": 86400000,
           "71": 86400000,
           "72": 86400000,
           "73": 86400000,
           "74": 86400000,
           "75": 86400000,
           "76": 86400000,
           "77": 86400000,
           "78": 86400000,
           "79": 86400000,
           "8": 86400000,
           "80": 86400000,
           "81": 86400000,
           "82": 86400000,
           "83": 86400000,
           "84": 86400000,
           "85": 86400000,
           "86": 86400000,
           "87": 86400000,
           "88": 86400000,
           "89": 86400000,
           "9": 86400000,
           "90": 86400000,
           "91": 86400000,
           "92": 86400000,
           "93": 86400000,
           "94": 86400000,
           "95": 86400000,
           "96": 86400000,
           "97": 86400000,
           "98": 86400000,
           "99": 86400000,
           "bdata": "AFwmBQBcJgUAXCYFAFwmBQBcJgUAXCYFAFwmBQBcJgUAXCYFAFwmBQBcJgUAXCYFAFwmBQBcJgUAXCYFAFwmBQBcJgUAXCYFAFwmBQBcJgUAXCYFAFwmBQBcJgUAXCYFAFwmBQBcJgUAXCYFAFwmBQBcJgUAXCYFAFwmBQBcJgUAXCYFAFwmBQBcJgUAXCYFAFwmBQBcJgUAXCYFAFwmBQBcJgUAXCYFAFwmBQBcJgUAXCYFAFwmBQBcJgUAXCYFAFwmBQBcJgUAXCYFAFwmBQBcJgUAXCYFAFwmBQBcJgUAXCYFAFwmBQBcJgUAXCYFAFwmBQBcJgUAXCYFAFwmBQBcJgUAXCYFAFwmBQBcJgUAXCYFAFwmBQBcJgUAXCYFAFwmBQBcJgUAXCYFAFwmBQBcJgUAXCYFAFwmBQBcJgUAXCYFAFwmBQBcJgUAXCYFAFwmBQBcJgUAXCYFAFwmBQBcJgUAXCYFAFwmBQBcJgUAXCYFAFwmBQBcJgUAXCYFAFwmBQBcJgUAXCYFAFwmBQBcJgUAXCYFAFwmBQBcJgUAXCYFAFwmBQBcJgUAXCYFAFwmBQBcJgUAXCYFAFwmBQBcJgUAXCYFAFwmBQBcJgUAXCYFAFwmBQBcJgUAXCYFAFwmBQBcJgU=",
           "dtype": "i4",
           "shape": "122"
          },
          "bdata": "AFwmBQBcJgUAXCYFAFwmBQBcJgUAXCYFAFwmBQBcJgUAXCYFAFwmBQBcJgUAXCYFAFwmBQBcJgUAXCYFAFwmBQBcJgUAXCYFAFwmBQBcJgUAXCYFAFwmBQBcJgUAXCYFAFwmBQBcJgUAXCYFAFwmBQBcJgUAXCYFAFwmBQBcJgUAXCYFAFwmBQBcJgUAXCYFAFwmBQBcJgUAXCYFAFwmBQBcJgUAXCYFAFwmBQBcJgUAXCYFAFwmBQBcJgUAXCYFAFwmBQBcJgUAXCYFAFwmBQBcJgUAXCYFAFwmBQBcJgUAXCYFAFwmBQBcJgUAXCYFAFwmBQBcJgUAXCYFAFwmBQBcJgUAXCYFAFwmBQBcJgUAXCYFAFwmBQBcJgUAXCYFAFwmBQBcJgUAXCYFAFwmBQBcJgUAXCYFAFwmBQBcJgUAXCYFAFwmBQBcJgUAXCYFAFwmBQBcJgUAXCYFAFwmBQBcJgUAXCYFAFwmBQBcJgUAXCYFAFwmBQBcJgUAXCYFAFwmBQBcJgUAXCYFAFwmBQBcJgUAXCYFAFwmBQBcJgUAXCYFAFwmBQBcJgUAXCYFAFwmBQBcJgUAXCYFAFwmBQBcJgUAXCYFAFwmBQBcJgUAXCYFAFwmBQBcJgUAXCYFAFwmBQBcJgU=",
          "dtype": "i4"
         },
         "xaxis": "x",
         "y": [
          "CMXMAL00008-001",
          "CMXMAL00008-002",
          "CMXMAL00008-002",
          "CMXMAL00008-003",
          "CMXMAL00008-003",
          "CMXMAL00008-004",
          "CMXMAL00008-005",
          "CMXMAL00008-005",
          "CMXMAL00008-005",
          "CMXMAL00008-006",
          "CMXMAL00008-007",
          "CMXMAL00008-007",
          "CMXMAL00008-008",
          "CMXMAL00008-008",
          "CMXMAL00008-009",
          "CMXMAL00008-009",
          "CMXMAL00008-010",
          "CMXMAL00008-010",
          "CMXMAL00008-011",
          "CMXMAL00008-011",
          "CMXMAL00008-012",
          "CMXMAL00008-012",
          "CMXMAL00008-013",
          "CMXMAL00008-013",
          "CMXMAL00008-014",
          "CMXMAL00008-014",
          "CMXMAL00008-015",
          "CMXMAL00008-016",
          "CMXMAL00008-017",
          "CMXMAL00008-017",
          "CMXMAL00008-018",
          "CMXMAL00008-019",
          "CMXMAL00008-019",
          "CMXMAL00008-020",
          "CMXMAL00008-020",
          "CMXMAL00008-021",
          "CMXMAL00008-021",
          "CMXMAL00008-022",
          "CMXMAL00008-022",
          "CMXMAL00008-023",
          "CMXMAL00008-023",
          "CMXMAL00008-024",
          "CMXMAL00008-024",
          "CMXMAL00008-025",
          "CMXMAL00008-025",
          "CMXMAL00008-026",
          "CMXMAL00008-027",
          "CMXMAL00008-027",
          "CMXMAL00008-028",
          "CMXMAL00008-028",
          "CMXMAL00008-029",
          "CMXMAL00008-029",
          "CMXMAL00008-030",
          "CMXMAL00008-031",
          "CMXMAL00008-031",
          "CMXMAL00008-032",
          "CMXMAL00008-032",
          "CMXMAL00010",
          "CMXMAL00010-001",
          "CMXMAL00010-001",
          "CMXMAL00010-002",
          "CMXMAL00010-002",
          "CMXMAL00010-003",
          "CMXMAL00010-003",
          "CMXMAL00010-004",
          "CMXMAL00010-004",
          "CMXMAL00010-005",
          "CMXMAL00010-005",
          "CMXMAL00010-006",
          "CMXMAL00010-006",
          "CMXMAL00010-007",
          "CMXMAL00010-007",
          "CMXMAL00010-008",
          "CMXMAL00010-008",
          "CMXMAL00010-009",
          "CMXMAL00010-009",
          "CMXMAL00010-010",
          "CMXMAL00010-010",
          "CMXMAL00010-011",
          "CMXMAL00010-011",
          "CMXMAL00010-012",
          "CMXMAL00010-012",
          "CMXMAL00010-013",
          "CMXMAL00010-013",
          "CMXMAL00010-014",
          "CMXMAL00010-014",
          "CMXMAL00010-015",
          "CMXMAL00010-015",
          "CMXMAL00010-016",
          "CMXMAL00010-016",
          "CMXMAL00010-017",
          "CMXMAL00010-017",
          "CMXMAL00010-018",
          "CMXMAL00010-018",
          "CMXMAL00010-019",
          "CMXMAL00010-019",
          "CMXMAL00010-020",
          "CMXMAL00010-020",
          "CMXMAL00010-021",
          "CMXMAL00010-021",
          "CMXMAL00010-022",
          "CMXMAL00010-022",
          "CMXMAL00010-023",
          "CMXMAL00010-023",
          "CMXMAL00010-024",
          "CMXMAL00010-024",
          "CMXMAL00010-025",
          "CMXMAL00010-025",
          "CMXMAL00010-026",
          "CMXMAL00010-026",
          "CMXMAL00010-027",
          "CMXMAL00010-027",
          "CMXMAL00010-028",
          "CMXMAL00010-028",
          "CMXMAL00010-029",
          "CMXMAL00010-029",
          "CMXMAL00010-030",
          "CMXMAL00010-030",
          "CMXMAL00010-031",
          "CMXMAL00010-031",
          "CMXMAL00010-032",
          "CMXMAL00010-032"
         ],
         "yaxis": "y"
        },
        {
         "base": [
          "2025-06-23T18:41:21.714000000",
          "2025-06-23T18:41:23.850000000",
          "2025-06-23T18:41:25.993000000",
          "2025-06-23T18:41:28.246000000",
          "2025-06-23T18:41:31.666000000",
          "2025-06-23T18:41:33.278000000",
          "2025-06-23T18:41:35.603000000",
          "2025-06-23T18:41:37.315000000",
          "2025-06-23T18:41:39.766000000",
          "2025-06-23T18:41:41.391000000",
          "2025-06-23T18:41:44.500000000",
          "2025-06-23T18:41:47.214000000",
          "2025-06-23T18:41:49.992000000",
          "2025-06-23T18:41:53.466000000",
          "2025-06-23T18:41:55.312000000",
          "2025-06-23T18:41:57.674000000",
          "2025-06-23T18:41:59.577000000",
          "2025-06-23T18:42:01.689000000",
          "2025-06-23T18:42:03.727000000",
          "2025-06-23T18:42:07.218000000",
          "2025-06-23T18:42:09.115000000",
          "2025-06-23T18:42:11.352000000",
          "2025-06-23T18:42:13.293000000",
          "2025-06-23T18:42:15.381000000",
          "2025-06-23T18:42:17.212000000",
          "2025-06-23T18:42:19.277000000",
          "2025-06-23T18:42:21.930000000",
          "2025-06-23T18:42:23.696000000",
          "2025-06-23T18:42:25.936000000",
          "2025-06-23T18:42:27.754000000",
          "2025-06-23T18:42:30.266000000",
          "2025-06-23T18:42:32.466000000",
          "2025-06-23T18:38:48.545000000",
          "2025-06-23T18:38:51.765000000",
          "2025-06-23T18:38:54.515000000",
          "2025-06-23T18:38:56.732000000",
          "2025-06-23T18:38:59.079000000",
          "2025-06-23T18:39:01.527000000",
          "2025-06-23T18:39:04.602000000",
          "2025-06-23T18:39:07.974000000",
          "2025-06-23T18:39:10.676000000",
          "2025-06-23T18:39:12.973000000",
          "2025-06-23T18:39:14.871000000",
          "2025-06-23T18:39:17.164000000",
          "2025-06-23T18:39:19.186000000",
          "2025-06-23T18:39:24.679000000",
          "2025-06-23T18:39:28.551000000",
          "2025-06-23T18:39:31.324000000",
          "2025-06-23T18:39:32.755000000",
          "2025-06-23T18:39:33.985000000",
          "2025-06-23T18:39:36.086000000",
          "2025-06-23T18:39:39.516000000",
          "2025-06-23T18:39:41.749000000",
          "2025-06-23T18:39:43.691000000",
          "2025-06-23T18:39:45.960000000"
         ],
         "customdata": [
          [
           "Brett Ley",
           "Sample received at CWRU for 4PB testing.",
           "CWRU"
          ],
          [
           "Brett Ley",
           "Sample received at CWRU for 4PB testing.",
           "CWRU"
          ],
          [
           "Brett Ley",
           "Sample received at CWRU for 4PB testing.",
           "CWRU"
          ],
          [
           "Brett Ley",
           "Sample received at CWRU for 4PB testing.",
           "CWRU"
          ],
          [
           "Brett Ley",
           "Sample received at CWRU for 4PB testing.",
           "CWRU"
          ],
          [
           "Brett Ley",
           "Sample received at CWRU for 4PB testing.",
           "CWRU"
          ],
          [
           "Brett Ley",
           "Sample received at CWRU for 4PB testing.",
           "CWRU"
          ],
          [
           "Brett Ley",
           "Sample received at CWRU for 4PB testing.",
           "CWRU"
          ],
          [
           "Brett Ley",
           "Sample received at CWRU for 4PB testing.",
           "CWRU"
          ],
          [
           "Brett Ley",
           "Sample received at CWRU for 4PB testing.",
           "CWRU"
          ],
          [
           "Brett Ley",
           "Sample received at CWRU for 4PB testing.",
           "CWRU"
          ],
          [
           "Brett Ley",
           "Sample received at CWRU for 4PB testing.",
           "CWRU"
          ],
          [
           "Brett Ley",
           "Sample received at CWRU for 4PB testing.",
           "CWRU"
          ],
          [
           "Brett Ley",
           "Sample received at CWRU for 4PB testing.",
           "CWRU"
          ],
          [
           "Brett Ley",
           "Sample received at CWRU for 4PB testing.",
           "CWRU"
          ],
          [
           "Brett Ley",
           "Sample received at CWRU for 4PB testing.",
           "CWRU"
          ],
          [
           "Brett Ley",
           "Sample received at CWRU for 4PB testing.",
           "CWRU"
          ],
          [
           "Brett Ley",
           "Sample received at CWRU for 4PB testing.",
           "CWRU"
          ],
          [
           "Brett Ley",
           "Sample received at CWRU for 4PB testing.",
           "CWRU"
          ],
          [
           "Brett Ley",
           "Sample received at CWRU for 4PB testing.",
           "CWRU"
          ],
          [
           "Brett Ley",
           "Sample received at CWRU for 4PB testing.",
           "CWRU"
          ],
          [
           "Brett Ley",
           "Sample received at CWRU for 4PB testing.",
           "CWRU"
          ],
          [
           "Brett Ley",
           "Sample received at CWRU for 4PB testing.",
           "CWRU"
          ],
          [
           "Brett Ley",
           "Sample received at CWRU for 4PB testing.",
           "CWRU"
          ],
          [
           "Brett Ley",
           "Sample received at CWRU for 4PB testing.",
           "CWRU"
          ],
          [
           "Brett Ley",
           "Sample received at CWRU for 4PB testing.",
           "CWRU"
          ],
          [
           "Brett Ley",
           "Sample received at CWRU for 4PB testing.",
           "CWRU"
          ],
          [
           "Brett Ley",
           "Sample received at CWRU for 4PB testing.",
           "CWRU"
          ],
          [
           "Brett Ley",
           "Sample received at CWRU for 4PB testing.",
           "CWRU"
          ],
          [
           "Brett Ley",
           "Sample received at CWRU for 4PB testing.",
           "CWRU"
          ],
          [
           "Brett Ley",
           "Sample received at CWRU for 4PB testing.",
           "CWRU"
          ],
          [
           "Brett Ley",
           "Sample received at CWRU for 4PB testing.",
           "CWRU"
          ],
          [
           "Brett Ley",
           "Sample received at CWRU for 4PB testing.",
           "CWRU"
          ],
          [
           "Brett Ley",
           "Sample received at CWRU for 4PB testing.",
           "CWRU"
          ],
          [
           "Brett Ley",
           "Sample received at CWRU for 4PB testing.",
           "CWRU"
          ],
          [
           "Brett Ley",
           "Sample received at CWRU for 4PB testing.",
           "CWRU"
          ],
          [
           "Brett Ley",
           "Sample received at CWRU for 4PB testing.",
           "CWRU"
          ],
          [
           "Brett Ley",
           "Sample received at CWRU for 4PB testing.",
           "CWRU"
          ],
          [
           "Brett Ley",
           "Sample received at CWRU for 4PB testing.",
           "CWRU"
          ],
          [
           "Brett Ley",
           "Sample received at CWRU for 4PB testing.",
           "CWRU"
          ],
          [
           "Brett Ley",
           "Sample received at CWRU for 4PB testing.",
           "CWRU"
          ],
          [
           "Brett Ley",
           "Sample received at CWRU for 4PB testing.",
           "CWRU"
          ],
          [
           "Brett Ley",
           "Sample received at CWRU for 4PB testing.",
           "CWRU"
          ],
          [
           "Brett Ley",
           "Sample received at CWRU for 4PB testing.",
           "CWRU"
          ],
          [
           "Brett Ley",
           "Sample received at CWRU for 4PB testing.",
           "CWRU"
          ],
          [
           "Brett Ley",
           "Sample received at CWRU for 4PB testing.",
           "CWRU"
          ],
          [
           "Brett Ley",
           "Sample received at CWRU for 4PB testing.",
           "CWRU"
          ],
          [
           "Brett Ley",
           "Sample received at CWRU for 4PB testing.",
           "CWRU"
          ],
          [
           "Brett Ley",
           "Sample received at CWRU for 4PB testing.",
           "CWRU"
          ],
          [
           "Brett Ley",
           "Sample received at CWRU for 4PB testing.",
           "CWRU"
          ],
          [
           "Brett Ley",
           "Sample received at CWRU for 4PB testing.",
           "CWRU"
          ],
          [
           "Brett Ley",
           "Sample received at CWRU for 4PB testing.",
           "CWRU"
          ],
          [
           "Brett Ley",
           "Sample received at CWRU for 4PB testing.",
           "CWRU"
          ],
          [
           "Brett Ley",
           "Sample received at CWRU for 4PB testing.",
           "CWRU"
          ],
          [
           "Brett Ley",
           "Sample received at CWRU for 4PB testing.",
           "CWRU"
          ]
         ],
         "hovertemplate": "creator=%{customdata[0]}<br>timestamp=%{base}<br>timestamp_end=%{x}<br>sample_name=%{y}<br>comment=%{customdata[1]}<br>location=%{customdata[2]}<extra></extra>",
         "legendgroup": "Brett Ley",
         "marker": {
          "color": "#00cc96",
          "pattern": {
           "shape": ""
          }
         },
         "name": "Brett Ley",
         "orientation": "h",
         "showlegend": true,
         "textposition": "auto",
         "type": "bar",
         "x": {
          "_inputArray": {
           "0": 86400000,
           "1": 86400000,
           "10": 86400000,
           "11": 86400000,
           "12": 86400000,
           "13": 86400000,
           "14": 86400000,
           "15": 86400000,
           "16": 86400000,
           "17": 86400000,
           "18": 86400000,
           "19": 86400000,
           "2": 86400000,
           "20": 86400000,
           "21": 86400000,
           "22": 86400000,
           "23": 86400000,
           "24": 86400000,
           "25": 86400000,
           "26": 86400000,
           "27": 86400000,
           "28": 86400000,
           "29": 86400000,
           "3": 86400000,
           "30": 86400000,
           "31": 86400000,
           "32": 86400000,
           "33": 86400000,
           "34": 86400000,
           "35": 86400000,
           "36": 86400000,
           "37": 86400000,
           "38": 86400000,
           "39": 86400000,
           "4": 86400000,
           "40": 86400000,
           "41": 86400000,
           "42": 86400000,
           "43": 86400000,
           "44": 86400000,
           "45": 86400000,
           "46": 86400000,
           "47": 86400000,
           "48": 86400000,
           "49": 86400000,
           "5": 86400000,
           "50": 86400000,
           "51": 86400000,
           "52": 86400000,
           "53": 86400000,
           "54": 86400000,
           "6": 86400000,
           "7": 86400000,
           "8": 86400000,
           "9": 86400000,
           "bdata": "AFwmBQBcJgUAXCYFAFwmBQBcJgUAXCYFAFwmBQBcJgUAXCYFAFwmBQBcJgUAXCYFAFwmBQBcJgUAXCYFAFwmBQBcJgUAXCYFAFwmBQBcJgUAXCYFAFwmBQBcJgUAXCYFAFwmBQBcJgUAXCYFAFwmBQBcJgUAXCYFAFwmBQBcJgUAXCYFAFwmBQBcJgUAXCYFAFwmBQBcJgUAXCYFAFwmBQBcJgUAXCYFAFwmBQBcJgUAXCYFAFwmBQBcJgUAXCYFAFwmBQBcJgUAXCYFAFwmBQBcJgUAXCYFAFwmBQ==",
           "dtype": "i4",
           "shape": "55"
          },
          "bdata": "AFwmBQBcJgUAXCYFAFwmBQBcJgUAXCYFAFwmBQBcJgUAXCYFAFwmBQBcJgUAXCYFAFwmBQBcJgUAXCYFAFwmBQBcJgUAXCYFAFwmBQBcJgUAXCYFAFwmBQBcJgUAXCYFAFwmBQBcJgUAXCYFAFwmBQBcJgUAXCYFAFwmBQBcJgUAXCYFAFwmBQBcJgUAXCYFAFwmBQBcJgUAXCYFAFwmBQBcJgUAXCYFAFwmBQBcJgUAXCYFAFwmBQBcJgUAXCYFAFwmBQBcJgUAXCYFAFwmBQBcJgUAXCYFAFwmBQ==",
          "dtype": "i4"
         },
         "xaxis": "x",
         "y": [
          "CMXMAL00008-001",
          "CMXMAL00008-002",
          "CMXMAL00008-003",
          "CMXMAL00008-004",
          "CMXMAL00008-005",
          "CMXMAL00008-006",
          "CMXMAL00008-007",
          "CMXMAL00008-008",
          "CMXMAL00008-009",
          "CMXMAL00008-010",
          "CMXMAL00008-011",
          "CMXMAL00008-012",
          "CMXMAL00008-013",
          "CMXMAL00008-014",
          "CMXMAL00008-015",
          "CMXMAL00008-016",
          "CMXMAL00008-017",
          "CMXMAL00008-018",
          "CMXMAL00008-019",
          "CMXMAL00008-020",
          "CMXMAL00008-021",
          "CMXMAL00008-022",
          "CMXMAL00008-023",
          "CMXMAL00008-024",
          "CMXMAL00008-025",
          "CMXMAL00008-026",
          "CMXMAL00008-027",
          "CMXMAL00008-028",
          "CMXMAL00008-029",
          "CMXMAL00008-030",
          "CMXMAL00008-031",
          "CMXMAL00008-032",
          "CMXMAL00010-002",
          "CMXMAL00010-003",
          "CMXMAL00010-005",
          "CMXMAL00010-007",
          "CMXMAL00010-008",
          "CMXMAL00010-009",
          "CMXMAL00010-010",
          "CMXMAL00010-011",
          "CMXMAL00010-012",
          "CMXMAL00010-013",
          "CMXMAL00010-014",
          "CMXMAL00010-017",
          "CMXMAL00010-019",
          "CMXMAL00010-020",
          "CMXMAL00010-021",
          "CMXMAL00010-022",
          "CMXMAL00010-023",
          "CMXMAL00010-024",
          "CMXMAL00010-025",
          "CMXMAL00010-027",
          "CMXMAL00010-028",
          "CMXMAL00010-029",
          "CMXMAL00010-032"
         ],
         "yaxis": "y"
        }
       ],
       "layout": {
        "autosize": true,
        "barmode": "overlay",
        "legend": {
         "title": {
          "text": "creator"
         },
         "tracegroupgap": 0
        },
        "margin": {
         "t": 60
        },
        "template": {
         "data": {
          "bar": [
           {
            "error_x": {
             "color": "#2a3f5f"
            },
            "error_y": {
             "color": "#2a3f5f"
            },
            "marker": {
             "line": {
              "color": "#E5ECF6",
              "width": 0.5
             },
             "pattern": {
              "fillmode": "overlay",
              "size": 10,
              "solidity": 0.2
             }
            },
            "type": "bar"
           }
          ],
          "barpolar": [
           {
            "marker": {
             "line": {
              "color": "#E5ECF6",
              "width": 0.5
             },
             "pattern": {
              "fillmode": "overlay",
              "size": 10,
              "solidity": 0.2
             }
            },
            "type": "barpolar"
           }
          ],
          "carpet": [
           {
            "aaxis": {
             "endlinecolor": "#2a3f5f",
             "gridcolor": "white",
             "linecolor": "white",
             "minorgridcolor": "white",
             "startlinecolor": "#2a3f5f"
            },
            "baxis": {
             "endlinecolor": "#2a3f5f",
             "gridcolor": "white",
             "linecolor": "white",
             "minorgridcolor": "white",
             "startlinecolor": "#2a3f5f"
            },
            "type": "carpet"
           }
          ],
          "choropleth": [
           {
            "colorbar": {
             "outlinewidth": 0,
             "ticks": ""
            },
            "type": "choropleth"
           }
          ],
          "contour": [
           {
            "colorbar": {
             "outlinewidth": 0,
             "ticks": ""
            },
            "colorscale": [
             [
              0,
              "#0d0887"
             ],
             [
              0.1111111111111111,
              "#46039f"
             ],
             [
              0.2222222222222222,
              "#7201a8"
             ],
             [
              0.3333333333333333,
              "#9c179e"
             ],
             [
              0.4444444444444444,
              "#bd3786"
             ],
             [
              0.5555555555555556,
              "#d8576b"
             ],
             [
              0.6666666666666666,
              "#ed7953"
             ],
             [
              0.7777777777777778,
              "#fb9f3a"
             ],
             [
              0.8888888888888888,
              "#fdca26"
             ],
             [
              1,
              "#f0f921"
             ]
            ],
            "type": "contour"
           }
          ],
          "contourcarpet": [
           {
            "colorbar": {
             "outlinewidth": 0,
             "ticks": ""
            },
            "type": "contourcarpet"
           }
          ],
          "heatmap": [
           {
            "colorbar": {
             "outlinewidth": 0,
             "ticks": ""
            },
            "colorscale": [
             [
              0,
              "#0d0887"
             ],
             [
              0.1111111111111111,
              "#46039f"
             ],
             [
              0.2222222222222222,
              "#7201a8"
             ],
             [
              0.3333333333333333,
              "#9c179e"
             ],
             [
              0.4444444444444444,
              "#bd3786"
             ],
             [
              0.5555555555555556,
              "#d8576b"
             ],
             [
              0.6666666666666666,
              "#ed7953"
             ],
             [
              0.7777777777777778,
              "#fb9f3a"
             ],
             [
              0.8888888888888888,
              "#fdca26"
             ],
             [
              1,
              "#f0f921"
             ]
            ],
            "type": "heatmap"
           }
          ],
          "histogram": [
           {
            "marker": {
             "pattern": {
              "fillmode": "overlay",
              "size": 10,
              "solidity": 0.2
             }
            },
            "type": "histogram"
           }
          ],
          "histogram2d": [
           {
            "colorbar": {
             "outlinewidth": 0,
             "ticks": ""
            },
            "colorscale": [
             [
              0,
              "#0d0887"
             ],
             [
              0.1111111111111111,
              "#46039f"
             ],
             [
              0.2222222222222222,
              "#7201a8"
             ],
             [
              0.3333333333333333,
              "#9c179e"
             ],
             [
              0.4444444444444444,
              "#bd3786"
             ],
             [
              0.5555555555555556,
              "#d8576b"
             ],
             [
              0.6666666666666666,
              "#ed7953"
             ],
             [
              0.7777777777777778,
              "#fb9f3a"
             ],
             [
              0.8888888888888888,
              "#fdca26"
             ],
             [
              1,
              "#f0f921"
             ]
            ],
            "type": "histogram2d"
           }
          ],
          "histogram2dcontour": [
           {
            "colorbar": {
             "outlinewidth": 0,
             "ticks": ""
            },
            "colorscale": [
             [
              0,
              "#0d0887"
             ],
             [
              0.1111111111111111,
              "#46039f"
             ],
             [
              0.2222222222222222,
              "#7201a8"
             ],
             [
              0.3333333333333333,
              "#9c179e"
             ],
             [
              0.4444444444444444,
              "#bd3786"
             ],
             [
              0.5555555555555556,
              "#d8576b"
             ],
             [
              0.6666666666666666,
              "#ed7953"
             ],
             [
              0.7777777777777778,
              "#fb9f3a"
             ],
             [
              0.8888888888888888,
              "#fdca26"
             ],
             [
              1,
              "#f0f921"
             ]
            ],
            "type": "histogram2dcontour"
           }
          ],
          "mesh3d": [
           {
            "colorbar": {
             "outlinewidth": 0,
             "ticks": ""
            },
            "type": "mesh3d"
           }
          ],
          "parcoords": [
           {
            "line": {
             "colorbar": {
              "outlinewidth": 0,
              "ticks": ""
             }
            },
            "type": "parcoords"
           }
          ],
          "pie": [
           {
            "automargin": true,
            "type": "pie"
           }
          ],
          "scatter": [
           {
            "fillpattern": {
             "fillmode": "overlay",
             "size": 10,
             "solidity": 0.2
            },
            "type": "scatter"
           }
          ],
          "scatter3d": [
           {
            "line": {
             "colorbar": {
              "outlinewidth": 0,
              "ticks": ""
             }
            },
            "marker": {
             "colorbar": {
              "outlinewidth": 0,
              "ticks": ""
             }
            },
            "type": "scatter3d"
           }
          ],
          "scattercarpet": [
           {
            "marker": {
             "colorbar": {
              "outlinewidth": 0,
              "ticks": ""
             }
            },
            "type": "scattercarpet"
           }
          ],
          "scattergeo": [
           {
            "marker": {
             "colorbar": {
              "outlinewidth": 0,
              "ticks": ""
             }
            },
            "type": "scattergeo"
           }
          ],
          "scattergl": [
           {
            "marker": {
             "colorbar": {
              "outlinewidth": 0,
              "ticks": ""
             }
            },
            "type": "scattergl"
           }
          ],
          "scattermap": [
           {
            "marker": {
             "colorbar": {
              "outlinewidth": 0,
              "ticks": ""
             }
            },
            "type": "scattermap"
           }
          ],
          "scattermapbox": [
           {
            "marker": {
             "colorbar": {
              "outlinewidth": 0,
              "ticks": ""
             }
            },
            "type": "scattermapbox"
           }
          ],
          "scatterpolar": [
           {
            "marker": {
             "colorbar": {
              "outlinewidth": 0,
              "ticks": ""
             }
            },
            "type": "scatterpolar"
           }
          ],
          "scatterpolargl": [
           {
            "marker": {
             "colorbar": {
              "outlinewidth": 0,
              "ticks": ""
             }
            },
            "type": "scatterpolargl"
           }
          ],
          "scatterternary": [
           {
            "marker": {
             "colorbar": {
              "outlinewidth": 0,
              "ticks": ""
             }
            },
            "type": "scatterternary"
           }
          ],
          "surface": [
           {
            "colorbar": {
             "outlinewidth": 0,
             "ticks": ""
            },
            "colorscale": [
             [
              0,
              "#0d0887"
             ],
             [
              0.1111111111111111,
              "#46039f"
             ],
             [
              0.2222222222222222,
              "#7201a8"
             ],
             [
              0.3333333333333333,
              "#9c179e"
             ],
             [
              0.4444444444444444,
              "#bd3786"
             ],
             [
              0.5555555555555556,
              "#d8576b"
             ],
             [
              0.6666666666666666,
              "#ed7953"
             ],
             [
              0.7777777777777778,
              "#fb9f3a"
             ],
             [
              0.8888888888888888,
              "#fdca26"
             ],
             [
              1,
              "#f0f921"
             ]
            ],
            "type": "surface"
           }
          ],
          "table": [
           {
            "cells": {
             "fill": {
              "color": "#EBF0F8"
             },
             "line": {
              "color": "white"
             }
            },
            "header": {
             "fill": {
              "color": "#C8D4E3"
             },
             "line": {
              "color": "white"
             }
            },
            "type": "table"
           }
          ]
         },
         "layout": {
          "annotationdefaults": {
           "arrowcolor": "#2a3f5f",
           "arrowhead": 0,
           "arrowwidth": 1
          },
          "autotypenumbers": "strict",
          "coloraxis": {
           "colorbar": {
            "outlinewidth": 0,
            "ticks": ""
           }
          },
          "colorscale": {
           "diverging": [
            [
             0,
             "#8e0152"
            ],
            [
             0.1,
             "#c51b7d"
            ],
            [
             0.2,
             "#de77ae"
            ],
            [
             0.3,
             "#f1b6da"
            ],
            [
             0.4,
             "#fde0ef"
            ],
            [
             0.5,
             "#f7f7f7"
            ],
            [
             0.6,
             "#e6f5d0"
            ],
            [
             0.7,
             "#b8e186"
            ],
            [
             0.8,
             "#7fbc41"
            ],
            [
             0.9,
             "#4d9221"
            ],
            [
             1,
             "#276419"
            ]
           ],
           "sequential": [
            [
             0,
             "#0d0887"
            ],
            [
             0.1111111111111111,
             "#46039f"
            ],
            [
             0.2222222222222222,
             "#7201a8"
            ],
            [
             0.3333333333333333,
             "#9c179e"
            ],
            [
             0.4444444444444444,
             "#bd3786"
            ],
            [
             0.5555555555555556,
             "#d8576b"
            ],
            [
             0.6666666666666666,
             "#ed7953"
            ],
            [
             0.7777777777777778,
             "#fb9f3a"
            ],
            [
             0.8888888888888888,
             "#fdca26"
            ],
            [
             1,
             "#f0f921"
            ]
           ],
           "sequentialminus": [
            [
             0,
             "#0d0887"
            ],
            [
             0.1111111111111111,
             "#46039f"
            ],
            [
             0.2222222222222222,
             "#7201a8"
            ],
            [
             0.3333333333333333,
             "#9c179e"
            ],
            [
             0.4444444444444444,
             "#bd3786"
            ],
            [
             0.5555555555555556,
             "#d8576b"
            ],
            [
             0.6666666666666666,
             "#ed7953"
            ],
            [
             0.7777777777777778,
             "#fb9f3a"
            ],
            [
             0.8888888888888888,
             "#fdca26"
            ],
            [
             1,
             "#f0f921"
            ]
           ]
          },
          "colorway": [
           "#636efa",
           "#EF553B",
           "#00cc96",
           "#ab63fa",
           "#FFA15A",
           "#19d3f3",
           "#FF6692",
           "#B6E880",
           "#FF97FF",
           "#FECB52"
          ],
          "font": {
           "color": "#2a3f5f"
          },
          "geo": {
           "bgcolor": "white",
           "lakecolor": "white",
           "landcolor": "#E5ECF6",
           "showlakes": true,
           "showland": true,
           "subunitcolor": "white"
          },
          "hoverlabel": {
           "align": "left"
          },
          "hovermode": "closest",
          "mapbox": {
           "style": "light"
          },
          "paper_bgcolor": "white",
          "plot_bgcolor": "#E5ECF6",
          "polar": {
           "angularaxis": {
            "gridcolor": "white",
            "linecolor": "white",
            "ticks": ""
           },
           "bgcolor": "#E5ECF6",
           "radialaxis": {
            "gridcolor": "white",
            "linecolor": "white",
            "ticks": ""
           }
          },
          "scene": {
           "xaxis": {
            "backgroundcolor": "#E5ECF6",
            "gridcolor": "white",
            "gridwidth": 2,
            "linecolor": "white",
            "showbackground": true,
            "ticks": "",
            "zerolinecolor": "white"
           },
           "yaxis": {
            "backgroundcolor": "#E5ECF6",
            "gridcolor": "white",
            "gridwidth": 2,
            "linecolor": "white",
            "showbackground": true,
            "ticks": "",
            "zerolinecolor": "white"
           },
           "zaxis": {
            "backgroundcolor": "#E5ECF6",
            "gridcolor": "white",
            "gridwidth": 2,
            "linecolor": "white",
            "showbackground": true,
            "ticks": "",
            "zerolinecolor": "white"
           }
          },
          "shapedefaults": {
           "line": {
            "color": "#2a3f5f"
           }
          },
          "ternary": {
           "aaxis": {
            "gridcolor": "white",
            "linecolor": "white",
            "ticks": ""
           },
           "baxis": {
            "gridcolor": "white",
            "linecolor": "white",
            "ticks": ""
           },
           "bgcolor": "#E5ECF6",
           "caxis": {
            "gridcolor": "white",
            "linecolor": "white",
            "ticks": ""
           }
          },
          "title": {
           "x": 0.05
          },
          "xaxis": {
           "automargin": true,
           "gridcolor": "white",
           "linecolor": "white",
           "ticks": "",
           "title": {
            "standoff": 15
           },
           "zerolinecolor": "white",
           "zerolinewidth": 2
          },
          "yaxis": {
           "automargin": true,
           "gridcolor": "white",
           "linecolor": "white",
           "ticks": "",
           "title": {
            "standoff": 15
           },
           "zerolinecolor": "white",
           "zerolinewidth": 2
          }
         }
        },
        "title": {
         "text": "Sample Event Timeline (Durations Between Events)"
        },
        "xaxis": {
         "anchor": "y",
         "autorange": true,
         "domain": [
          0,
          1
         ],
         "range": [
          "2025-05-10 17:35:01.4931",
          "2025-07-05 14:42:33.4119"
         ],
         "type": "date"
        },
        "yaxis": {
         "anchor": "x",
         "autorange": true,
         "domain": [
          0,
          1
         ],
         "range": [
          115.5,
          -0.5
         ],
         "title": {
          "text": "sample_name"
         },
         "type": "category"
        }
       }
      },
      "image/png": "[encoded data removed]"
     },
     "metadata": {},
     "output_type": "display_data"
    }
   ],
   "source": [
    "build_timeline(client, False)"
   ]
  },
  {
   "cell_type": "code",
   "execution_count": null,
   "id": "9f4fdb2f-6f4b-4618-9c14-b55cdc8f474e",
   "metadata": {},
   "outputs": [],
   "source": []
  }
 ],
 "metadata": {
  "kernelspec": {
   "display_name": "Python 3 (ipykernel)",
   "language": "python",
   "name": "python3"
  },
  "language_info": {
   "codemirror_mode": {
    "name": "ipython",
    "version": 3
   },
   "file_extension": ".py",
   "mimetype": "text/x-python",
   "name": "python",
   "nbconvert_exporter": "python",
   "pygments_lexer": "ipython3",
   "version": "3.10.14"
  }
 },
 "nbformat": 4,
 "nbformat_minor": 5
}
